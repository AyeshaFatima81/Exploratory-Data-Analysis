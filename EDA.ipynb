{
 "cells": [
  {
   "cell_type": "markdown",
   "metadata": {},
   "source": [
    "# Explanatory Data Analysis(EDA):\n",
    "Three important steps to keep in mind are:\n",
    "\n",
    "1- Understand the data \n",
    "\n",
    "2- Clean the data\n",
    "\n",
    "3- Find a relationship between data\n"
   ]
  },
  {
   "cell_type": "code",
   "execution_count": 340,
   "metadata": {},
   "outputs": [],
   "source": [
    "import seaborn as sns\n",
    "import pandas as pd\n",
    "import numpy as np\n",
    "import matplotlib.pyplot as plt\n",
    "import warnings\n",
    "warnings.filterwarnings('ignore')"
   ]
  },
  {
   "cell_type": "code",
   "execution_count": 341,
   "metadata": {},
   "outputs": [
    {
     "data": {
      "text/html": [
       "<div>\n",
       "<style scoped>\n",
       "    .dataframe tbody tr th:only-of-type {\n",
       "        vertical-align: middle;\n",
       "    }\n",
       "\n",
       "    .dataframe tbody tr th {\n",
       "        vertical-align: top;\n",
       "    }\n",
       "\n",
       "    .dataframe thead th {\n",
       "        text-align: right;\n",
       "    }\n",
       "</style>\n",
       "<table border=\"1\" class=\"dataframe\">\n",
       "  <thead>\n",
       "    <tr style=\"text-align: right;\">\n",
       "      <th></th>\n",
       "      <th>Domain Code</th>\n",
       "      <th>Domain</th>\n",
       "      <th>Area Code (FAO)</th>\n",
       "      <th>Area</th>\n",
       "      <th>Indicator Code</th>\n",
       "      <th>Indicator</th>\n",
       "      <th>Sex Code</th>\n",
       "      <th>Sex</th>\n",
       "      <th>Year Code</th>\n",
       "      <th>Year</th>\n",
       "      <th>Source Code</th>\n",
       "      <th>Source</th>\n",
       "      <th>Unit</th>\n",
       "      <th>Value</th>\n",
       "      <th>Flag</th>\n",
       "      <th>Flag Description</th>\n",
       "      <th>Note</th>\n",
       "    </tr>\n",
       "  </thead>\n",
       "  <tbody>\n",
       "    <tr>\n",
       "      <th>0</th>\n",
       "      <td>OE</td>\n",
       "      <td>Employment Indicators</td>\n",
       "      <td>79</td>\n",
       "      <td>Germany</td>\n",
       "      <td>21085</td>\n",
       "      <td>Agriculture value added per worker (constant 2...</td>\n",
       "      <td>10</td>\n",
       "      <td>Total</td>\n",
       "      <td>1983</td>\n",
       "      <td>1983</td>\n",
       "      <td>3023</td>\n",
       "      <td>Labour force survey</td>\n",
       "      <td>US$</td>\n",
       "      <td>18769.525391</td>\n",
       "      <td>X</td>\n",
       "      <td>International reliable sources</td>\n",
       "      <td>NaN</td>\n",
       "    </tr>\n",
       "    <tr>\n",
       "      <th>1</th>\n",
       "      <td>OE</td>\n",
       "      <td>Employment Indicators</td>\n",
       "      <td>79</td>\n",
       "      <td>Germany</td>\n",
       "      <td>21085</td>\n",
       "      <td>Agriculture value added per worker (constant 2...</td>\n",
       "      <td>10</td>\n",
       "      <td>Total</td>\n",
       "      <td>1984</td>\n",
       "      <td>1984</td>\n",
       "      <td>3023</td>\n",
       "      <td>Labour force survey</td>\n",
       "      <td>US$</td>\n",
       "      <td>21448.009766</td>\n",
       "      <td>X</td>\n",
       "      <td>International reliable sources</td>\n",
       "      <td>NaN</td>\n",
       "    </tr>\n",
       "    <tr>\n",
       "      <th>2</th>\n",
       "      <td>OE</td>\n",
       "      <td>Employment Indicators</td>\n",
       "      <td>79</td>\n",
       "      <td>Germany</td>\n",
       "      <td>21085</td>\n",
       "      <td>Agriculture value added per worker (constant 2...</td>\n",
       "      <td>10</td>\n",
       "      <td>Total</td>\n",
       "      <td>1985</td>\n",
       "      <td>1985</td>\n",
       "      <td>3023</td>\n",
       "      <td>Labour force survey</td>\n",
       "      <td>US$</td>\n",
       "      <td>20529.093750</td>\n",
       "      <td>X</td>\n",
       "      <td>International reliable sources</td>\n",
       "      <td>NaN</td>\n",
       "    </tr>\n",
       "    <tr>\n",
       "      <th>3</th>\n",
       "      <td>OE</td>\n",
       "      <td>Employment Indicators</td>\n",
       "      <td>79</td>\n",
       "      <td>Germany</td>\n",
       "      <td>21085</td>\n",
       "      <td>Agriculture value added per worker (constant 2...</td>\n",
       "      <td>10</td>\n",
       "      <td>Total</td>\n",
       "      <td>1986</td>\n",
       "      <td>1986</td>\n",
       "      <td>3023</td>\n",
       "      <td>Labour force survey</td>\n",
       "      <td>US$</td>\n",
       "      <td>23113.072266</td>\n",
       "      <td>X</td>\n",
       "      <td>International reliable sources</td>\n",
       "      <td>NaN</td>\n",
       "    </tr>\n",
       "    <tr>\n",
       "      <th>4</th>\n",
       "      <td>OE</td>\n",
       "      <td>Employment Indicators</td>\n",
       "      <td>79</td>\n",
       "      <td>Germany</td>\n",
       "      <td>21085</td>\n",
       "      <td>Agriculture value added per worker (constant 2...</td>\n",
       "      <td>10</td>\n",
       "      <td>Total</td>\n",
       "      <td>1987</td>\n",
       "      <td>1987</td>\n",
       "      <td>3023</td>\n",
       "      <td>Labour force survey</td>\n",
       "      <td>US$</td>\n",
       "      <td>22667.585938</td>\n",
       "      <td>X</td>\n",
       "      <td>International reliable sources</td>\n",
       "      <td>NaN</td>\n",
       "    </tr>\n",
       "  </tbody>\n",
       "</table>\n",
       "</div>"
      ],
      "text/plain": [
       "  Domain Code                 Domain  Area Code (FAO)     Area  \\\n",
       "0          OE  Employment Indicators               79  Germany   \n",
       "1          OE  Employment Indicators               79  Germany   \n",
       "2          OE  Employment Indicators               79  Germany   \n",
       "3          OE  Employment Indicators               79  Germany   \n",
       "4          OE  Employment Indicators               79  Germany   \n",
       "\n",
       "   Indicator Code                                          Indicator  \\\n",
       "0           21085  Agriculture value added per worker (constant 2...   \n",
       "1           21085  Agriculture value added per worker (constant 2...   \n",
       "2           21085  Agriculture value added per worker (constant 2...   \n",
       "3           21085  Agriculture value added per worker (constant 2...   \n",
       "4           21085  Agriculture value added per worker (constant 2...   \n",
       "\n",
       "   Sex Code    Sex  Year Code  Year  Source Code               Source Unit  \\\n",
       "0        10  Total       1983  1983         3023  Labour force survey  US$   \n",
       "1        10  Total       1984  1984         3023  Labour force survey  US$   \n",
       "2        10  Total       1985  1985         3023  Labour force survey  US$   \n",
       "3        10  Total       1986  1986         3023  Labour force survey  US$   \n",
       "4        10  Total       1987  1987         3023  Labour force survey  US$   \n",
       "\n",
       "          Value Flag                Flag Description Note  \n",
       "0  18769.525391    X  International reliable sources  NaN  \n",
       "1  21448.009766    X  International reliable sources  NaN  \n",
       "2  20529.093750    X  International reliable sources  NaN  \n",
       "3  23113.072266    X  International reliable sources  NaN  \n",
       "4  22667.585938    X  International reliable sources  NaN  "
      ]
     },
     "execution_count": 341,
     "metadata": {},
     "output_type": "execute_result"
    }
   ],
   "source": [
    "dat=pd.read_csv('FAOSTAT_data.csv')\n",
    "dat.head()"
   ]
  },
  {
   "cell_type": "markdown",
   "metadata": {},
   "source": [
    "## Step1: Analysing the Data"
   ]
  },
  {
   "cell_type": "code",
   "execution_count": 342,
   "metadata": {},
   "outputs": [
    {
     "name": "stdout",
     "output_type": "stream",
     "text": [
      "<class 'pandas.core.frame.DataFrame'>\n",
      "RangeIndex: 4544 entries, 0 to 4543\n",
      "Data columns (total 17 columns):\n",
      " #   Column            Non-Null Count  Dtype  \n",
      "---  ------            --------------  -----  \n",
      " 0   Domain Code       4544 non-null   object \n",
      " 1   Domain            4544 non-null   object \n",
      " 2   Area Code (FAO)   4544 non-null   int64  \n",
      " 3   Area              4544 non-null   object \n",
      " 4   Indicator Code    4544 non-null   int64  \n",
      " 5   Indicator         4544 non-null   object \n",
      " 6   Sex Code          4544 non-null   int64  \n",
      " 7   Sex               4544 non-null   object \n",
      " 8   Year Code         4544 non-null   int64  \n",
      " 9   Year              4544 non-null   int64  \n",
      " 10  Source Code       4544 non-null   int64  \n",
      " 11  Source            4544 non-null   object \n",
      " 12  Unit              4544 non-null   object \n",
      " 13  Value             4544 non-null   float64\n",
      " 14  Flag              4544 non-null   object \n",
      " 15  Flag Description  4544 non-null   object \n",
      " 16  Note              4211 non-null   object \n",
      "dtypes: float64(1), int64(6), object(10)\n",
      "memory usage: 603.6+ KB\n"
     ]
    }
   ],
   "source": [
    "df=dat\n",
    "df.info() #This function also shows types of data"
   ]
  },
  {
   "cell_type": "code",
   "execution_count": 343,
   "metadata": {},
   "outputs": [
    {
     "data": {
      "text/html": [
       "<div>\n",
       "<style scoped>\n",
       "    .dataframe tbody tr th:only-of-type {\n",
       "        vertical-align: middle;\n",
       "    }\n",
       "\n",
       "    .dataframe tbody tr th {\n",
       "        vertical-align: top;\n",
       "    }\n",
       "\n",
       "    .dataframe thead th {\n",
       "        text-align: right;\n",
       "    }\n",
       "</style>\n",
       "<table border=\"1\" class=\"dataframe\">\n",
       "  <thead>\n",
       "    <tr style=\"text-align: right;\">\n",
       "      <th></th>\n",
       "      <th>Area Code (FAO)</th>\n",
       "      <th>Indicator Code</th>\n",
       "      <th>Sex Code</th>\n",
       "      <th>Year Code</th>\n",
       "      <th>Year</th>\n",
       "      <th>Source Code</th>\n",
       "      <th>Value</th>\n",
       "    </tr>\n",
       "  </thead>\n",
       "  <tbody>\n",
       "    <tr>\n",
       "      <th>count</th>\n",
       "      <td>4544.000000</td>\n",
       "      <td>4544.000000</td>\n",
       "      <td>4544.000000</td>\n",
       "      <td>4544.000000</td>\n",
       "      <td>4544.000000</td>\n",
       "      <td>4544.000000</td>\n",
       "      <td>4544.000000</td>\n",
       "    </tr>\n",
       "    <tr>\n",
       "      <th>mean</th>\n",
       "      <td>106.897007</td>\n",
       "      <td>21113.225132</td>\n",
       "      <td>21.908231</td>\n",
       "      <td>2006.341329</td>\n",
       "      <td>2006.341329</td>\n",
       "      <td>3024.531690</td>\n",
       "      <td>2171.798793</td>\n",
       "    </tr>\n",
       "    <tr>\n",
       "      <th>std</th>\n",
       "      <td>40.264828</td>\n",
       "      <td>26.451783</td>\n",
       "      <td>8.318616</td>\n",
       "      <td>9.074005</td>\n",
       "      <td>9.074005</td>\n",
       "      <td>5.319206</td>\n",
       "      <td>5554.464460</td>\n",
       "    </tr>\n",
       "    <tr>\n",
       "      <th>min</th>\n",
       "      <td>79.000000</td>\n",
       "      <td>21066.000000</td>\n",
       "      <td>10.000000</td>\n",
       "      <td>1973.000000</td>\n",
       "      <td>1973.000000</td>\n",
       "      <td>3023.000000</td>\n",
       "      <td>0.000000</td>\n",
       "    </tr>\n",
       "    <tr>\n",
       "      <th>25%</th>\n",
       "      <td>79.000000</td>\n",
       "      <td>21094.000000</td>\n",
       "      <td>13.000000</td>\n",
       "      <td>2000.000000</td>\n",
       "      <td>2000.000000</td>\n",
       "      <td>3023.000000</td>\n",
       "      <td>36.201971</td>\n",
       "    </tr>\n",
       "    <tr>\n",
       "      <th>50%</th>\n",
       "      <td>79.000000</td>\n",
       "      <td>21109.000000</td>\n",
       "      <td>23.000000</td>\n",
       "      <td>2008.000000</td>\n",
       "      <td>2008.000000</td>\n",
       "      <td>3023.000000</td>\n",
       "      <td>75.265000</td>\n",
       "    </tr>\n",
       "    <tr>\n",
       "      <th>75%</th>\n",
       "      <td>165.000000</td>\n",
       "      <td>21135.000000</td>\n",
       "      <td>31.000000</td>\n",
       "      <td>2014.000000</td>\n",
       "      <td>2014.000000</td>\n",
       "      <td>3023.000000</td>\n",
       "      <td>793.753750</td>\n",
       "    </tr>\n",
       "    <tr>\n",
       "      <th>max</th>\n",
       "      <td>165.000000</td>\n",
       "      <td>21158.000000</td>\n",
       "      <td>33.000000</td>\n",
       "      <td>2020.000000</td>\n",
       "      <td>2020.000000</td>\n",
       "      <td>3043.000000</td>\n",
       "      <td>46802.988281</td>\n",
       "    </tr>\n",
       "  </tbody>\n",
       "</table>\n",
       "</div>"
      ],
      "text/plain": [
       "       Area Code (FAO)  Indicator Code     Sex Code    Year Code         Year  \\\n",
       "count      4544.000000     4544.000000  4544.000000  4544.000000  4544.000000   \n",
       "mean        106.897007    21113.225132    21.908231  2006.341329  2006.341329   \n",
       "std          40.264828       26.451783     8.318616     9.074005     9.074005   \n",
       "min          79.000000    21066.000000    10.000000  1973.000000  1973.000000   \n",
       "25%          79.000000    21094.000000    13.000000  2000.000000  2000.000000   \n",
       "50%          79.000000    21109.000000    23.000000  2008.000000  2008.000000   \n",
       "75%         165.000000    21135.000000    31.000000  2014.000000  2014.000000   \n",
       "max         165.000000    21158.000000    33.000000  2020.000000  2020.000000   \n",
       "\n",
       "       Source Code         Value  \n",
       "count  4544.000000   4544.000000  \n",
       "mean   3024.531690   2171.798793  \n",
       "std       5.319206   5554.464460  \n",
       "min    3023.000000      0.000000  \n",
       "25%    3023.000000     36.201971  \n",
       "50%    3023.000000     75.265000  \n",
       "75%    3023.000000    793.753750  \n",
       "max    3043.000000  46802.988281  "
      ]
     },
     "execution_count": 343,
     "metadata": {},
     "output_type": "execute_result"
    }
   ],
   "source": [
    "df.describe()"
   ]
  },
  {
   "cell_type": "code",
   "execution_count": 344,
   "metadata": {},
   "outputs": [
    {
     "data": {
      "text/plain": [
       "(4544, 17)"
      ]
     },
     "execution_count": 344,
     "metadata": {},
     "output_type": "execute_result"
    }
   ],
   "source": [
    "#1st step is to check no. of rows and columns\n",
    "df.shape\n"
   ]
  },
  {
   "cell_type": "code",
   "execution_count": 345,
   "metadata": {},
   "outputs": [
    {
     "data": {
      "text/html": [
       "<div>\n",
       "<style scoped>\n",
       "    .dataframe tbody tr th:only-of-type {\n",
       "        vertical-align: middle;\n",
       "    }\n",
       "\n",
       "    .dataframe tbody tr th {\n",
       "        vertical-align: top;\n",
       "    }\n",
       "\n",
       "    .dataframe thead th {\n",
       "        text-align: right;\n",
       "    }\n",
       "</style>\n",
       "<table border=\"1\" class=\"dataframe\">\n",
       "  <thead>\n",
       "    <tr style=\"text-align: right;\">\n",
       "      <th></th>\n",
       "      <th>Domain Code</th>\n",
       "      <th>Domain</th>\n",
       "      <th>Area Code (FAO)</th>\n",
       "      <th>Area</th>\n",
       "      <th>Indicator Code</th>\n",
       "      <th>Indicator</th>\n",
       "      <th>Sex Code</th>\n",
       "      <th>Sex</th>\n",
       "      <th>Year Code</th>\n",
       "      <th>Year</th>\n",
       "      <th>Source Code</th>\n",
       "      <th>Source</th>\n",
       "      <th>Unit</th>\n",
       "      <th>Value</th>\n",
       "      <th>Flag</th>\n",
       "      <th>Flag Description</th>\n",
       "      <th>Note</th>\n",
       "    </tr>\n",
       "  </thead>\n",
       "  <tbody>\n",
       "    <tr>\n",
       "      <th>0</th>\n",
       "      <td>OE</td>\n",
       "      <td>Employment Indicators</td>\n",
       "      <td>79</td>\n",
       "      <td>Germany</td>\n",
       "      <td>21085</td>\n",
       "      <td>Agriculture value added per worker (constant 2...</td>\n",
       "      <td>10</td>\n",
       "      <td>Total</td>\n",
       "      <td>1983</td>\n",
       "      <td>1983</td>\n",
       "      <td>3023</td>\n",
       "      <td>Labour force survey</td>\n",
       "      <td>US$</td>\n",
       "      <td>18769.525391</td>\n",
       "      <td>X</td>\n",
       "      <td>International reliable sources</td>\n",
       "      <td>NaN</td>\n",
       "    </tr>\n",
       "    <tr>\n",
       "      <th>1</th>\n",
       "      <td>OE</td>\n",
       "      <td>Employment Indicators</td>\n",
       "      <td>79</td>\n",
       "      <td>Germany</td>\n",
       "      <td>21085</td>\n",
       "      <td>Agriculture value added per worker (constant 2...</td>\n",
       "      <td>10</td>\n",
       "      <td>Total</td>\n",
       "      <td>1984</td>\n",
       "      <td>1984</td>\n",
       "      <td>3023</td>\n",
       "      <td>Labour force survey</td>\n",
       "      <td>US$</td>\n",
       "      <td>21448.009766</td>\n",
       "      <td>X</td>\n",
       "      <td>International reliable sources</td>\n",
       "      <td>NaN</td>\n",
       "    </tr>\n",
       "    <tr>\n",
       "      <th>2</th>\n",
       "      <td>OE</td>\n",
       "      <td>Employment Indicators</td>\n",
       "      <td>79</td>\n",
       "      <td>Germany</td>\n",
       "      <td>21085</td>\n",
       "      <td>Agriculture value added per worker (constant 2...</td>\n",
       "      <td>10</td>\n",
       "      <td>Total</td>\n",
       "      <td>1985</td>\n",
       "      <td>1985</td>\n",
       "      <td>3023</td>\n",
       "      <td>Labour force survey</td>\n",
       "      <td>US$</td>\n",
       "      <td>20529.093750</td>\n",
       "      <td>X</td>\n",
       "      <td>International reliable sources</td>\n",
       "      <td>NaN</td>\n",
       "    </tr>\n",
       "    <tr>\n",
       "      <th>3</th>\n",
       "      <td>OE</td>\n",
       "      <td>Employment Indicators</td>\n",
       "      <td>79</td>\n",
       "      <td>Germany</td>\n",
       "      <td>21085</td>\n",
       "      <td>Agriculture value added per worker (constant 2...</td>\n",
       "      <td>10</td>\n",
       "      <td>Total</td>\n",
       "      <td>1986</td>\n",
       "      <td>1986</td>\n",
       "      <td>3023</td>\n",
       "      <td>Labour force survey</td>\n",
       "      <td>US$</td>\n",
       "      <td>23113.072266</td>\n",
       "      <td>X</td>\n",
       "      <td>International reliable sources</td>\n",
       "      <td>NaN</td>\n",
       "    </tr>\n",
       "    <tr>\n",
       "      <th>4</th>\n",
       "      <td>OE</td>\n",
       "      <td>Employment Indicators</td>\n",
       "      <td>79</td>\n",
       "      <td>Germany</td>\n",
       "      <td>21085</td>\n",
       "      <td>Agriculture value added per worker (constant 2...</td>\n",
       "      <td>10</td>\n",
       "      <td>Total</td>\n",
       "      <td>1987</td>\n",
       "      <td>1987</td>\n",
       "      <td>3023</td>\n",
       "      <td>Labour force survey</td>\n",
       "      <td>US$</td>\n",
       "      <td>22667.585938</td>\n",
       "      <td>X</td>\n",
       "      <td>International reliable sources</td>\n",
       "      <td>NaN</td>\n",
       "    </tr>\n",
       "  </tbody>\n",
       "</table>\n",
       "</div>"
      ],
      "text/plain": [
       "  Domain Code                 Domain  Area Code (FAO)     Area  \\\n",
       "0          OE  Employment Indicators               79  Germany   \n",
       "1          OE  Employment Indicators               79  Germany   \n",
       "2          OE  Employment Indicators               79  Germany   \n",
       "3          OE  Employment Indicators               79  Germany   \n",
       "4          OE  Employment Indicators               79  Germany   \n",
       "\n",
       "   Indicator Code                                          Indicator  \\\n",
       "0           21085  Agriculture value added per worker (constant 2...   \n",
       "1           21085  Agriculture value added per worker (constant 2...   \n",
       "2           21085  Agriculture value added per worker (constant 2...   \n",
       "3           21085  Agriculture value added per worker (constant 2...   \n",
       "4           21085  Agriculture value added per worker (constant 2...   \n",
       "\n",
       "   Sex Code    Sex  Year Code  Year  Source Code               Source Unit  \\\n",
       "0        10  Total       1983  1983         3023  Labour force survey  US$   \n",
       "1        10  Total       1984  1984         3023  Labour force survey  US$   \n",
       "2        10  Total       1985  1985         3023  Labour force survey  US$   \n",
       "3        10  Total       1986  1986         3023  Labour force survey  US$   \n",
       "4        10  Total       1987  1987         3023  Labour force survey  US$   \n",
       "\n",
       "          Value Flag                Flag Description Note  \n",
       "0  18769.525391    X  International reliable sources  NaN  \n",
       "1  21448.009766    X  International reliable sources  NaN  \n",
       "2  20529.093750    X  International reliable sources  NaN  \n",
       "3  23113.072266    X  International reliable sources  NaN  \n",
       "4  22667.585938    X  International reliable sources  NaN  "
      ]
     },
     "execution_count": 345,
     "metadata": {},
     "output_type": "execute_result"
    }
   ],
   "source": [
    "df.head() #To check first 5 values"
   ]
  },
  {
   "cell_type": "code",
   "execution_count": 346,
   "metadata": {},
   "outputs": [
    {
     "data": {
      "text/html": [
       "<div>\n",
       "<style scoped>\n",
       "    .dataframe tbody tr th:only-of-type {\n",
       "        vertical-align: middle;\n",
       "    }\n",
       "\n",
       "    .dataframe tbody tr th {\n",
       "        vertical-align: top;\n",
       "    }\n",
       "\n",
       "    .dataframe thead th {\n",
       "        text-align: right;\n",
       "    }\n",
       "</style>\n",
       "<table border=\"1\" class=\"dataframe\">\n",
       "  <thead>\n",
       "    <tr style=\"text-align: right;\">\n",
       "      <th></th>\n",
       "      <th>Domain Code</th>\n",
       "      <th>Domain</th>\n",
       "      <th>Area Code (FAO)</th>\n",
       "      <th>Area</th>\n",
       "      <th>Indicator Code</th>\n",
       "      <th>Indicator</th>\n",
       "      <th>Sex Code</th>\n",
       "      <th>Sex</th>\n",
       "      <th>Year Code</th>\n",
       "      <th>Year</th>\n",
       "      <th>Source Code</th>\n",
       "      <th>Source</th>\n",
       "      <th>Unit</th>\n",
       "      <th>Value</th>\n",
       "      <th>Flag</th>\n",
       "      <th>Flag Description</th>\n",
       "      <th>Note</th>\n",
       "    </tr>\n",
       "  </thead>\n",
       "  <tbody>\n",
       "    <tr>\n",
       "      <th>4539</th>\n",
       "      <td>OE</td>\n",
       "      <td>Employment Indicators</td>\n",
       "      <td>165</td>\n",
       "      <td>Pakistan</td>\n",
       "      <td>21117</td>\n",
       "      <td>Labour force participation rate by age, 65+, r...</td>\n",
       "      <td>33</td>\n",
       "      <td>Female</td>\n",
       "      <td>2018</td>\n",
       "      <td>2018</td>\n",
       "      <td>3023</td>\n",
       "      <td>Labour force survey</td>\n",
       "      <td>1000 persons</td>\n",
       "      <td>10.050</td>\n",
       "      <td>X</td>\n",
       "      <td>International reliable sources</td>\n",
       "      <td>Repository: ILO-STATISTICS - Micro data proces...</td>\n",
       "    </tr>\n",
       "    <tr>\n",
       "      <th>4540</th>\n",
       "      <td>OE</td>\n",
       "      <td>Employment Indicators</td>\n",
       "      <td>165</td>\n",
       "      <td>Pakistan</td>\n",
       "      <td>21125</td>\n",
       "      <td>Share of employment by status of employment, t...</td>\n",
       "      <td>33</td>\n",
       "      <td>Female</td>\n",
       "      <td>2018</td>\n",
       "      <td>2018</td>\n",
       "      <td>3023</td>\n",
       "      <td>Labour force survey</td>\n",
       "      <td>1000 persons</td>\n",
       "      <td>100.000</td>\n",
       "      <td>X</td>\n",
       "      <td>International reliable sources</td>\n",
       "      <td>Repository: ILO-STATISTICS - Micro data proces...</td>\n",
       "    </tr>\n",
       "    <tr>\n",
       "      <th>4541</th>\n",
       "      <td>OE</td>\n",
       "      <td>Employment Indicators</td>\n",
       "      <td>165</td>\n",
       "      <td>Pakistan</td>\n",
       "      <td>21133</td>\n",
       "      <td>Share of employment by status of employment, e...</td>\n",
       "      <td>33</td>\n",
       "      <td>Female</td>\n",
       "      <td>2018</td>\n",
       "      <td>2018</td>\n",
       "      <td>3023</td>\n",
       "      <td>Labour force survey</td>\n",
       "      <td>1000 persons</td>\n",
       "      <td>20.500</td>\n",
       "      <td>X</td>\n",
       "      <td>International reliable sources</td>\n",
       "      <td>Repository: ILO-STATISTICS - Micro data proces...</td>\n",
       "    </tr>\n",
       "    <tr>\n",
       "      <th>4542</th>\n",
       "      <td>OE</td>\n",
       "      <td>Employment Indicators</td>\n",
       "      <td>165</td>\n",
       "      <td>Pakistan</td>\n",
       "      <td>21135</td>\n",
       "      <td>Share of employment by status of employment, s...</td>\n",
       "      <td>33</td>\n",
       "      <td>Female</td>\n",
       "      <td>2018</td>\n",
       "      <td>2018</td>\n",
       "      <td>3023</td>\n",
       "      <td>Labour force survey</td>\n",
       "      <td>1000 persons</td>\n",
       "      <td>79.500</td>\n",
       "      <td>X</td>\n",
       "      <td>International reliable sources</td>\n",
       "      <td>Repository: ILO-STATISTICS - Micro data proces...</td>\n",
       "    </tr>\n",
       "    <tr>\n",
       "      <th>4543</th>\n",
       "      <td>OE</td>\n",
       "      <td>Employment Indicators</td>\n",
       "      <td>165</td>\n",
       "      <td>Pakistan</td>\n",
       "      <td>21144</td>\n",
       "      <td>Employment in agriculture, forestry and fishin...</td>\n",
       "      <td>33</td>\n",
       "      <td>Female</td>\n",
       "      <td>2019</td>\n",
       "      <td>2019</td>\n",
       "      <td>3043</td>\n",
       "      <td>ILO - ILO Modelled Estimates</td>\n",
       "      <td>1000 persons</td>\n",
       "      <td>9269.959</td>\n",
       "      <td>X</td>\n",
       "      <td>International reliable sources</td>\n",
       "      <td>NaN</td>\n",
       "    </tr>\n",
       "  </tbody>\n",
       "</table>\n",
       "</div>"
      ],
      "text/plain": [
       "     Domain Code                 Domain  Area Code (FAO)      Area  \\\n",
       "4539          OE  Employment Indicators              165  Pakistan   \n",
       "4540          OE  Employment Indicators              165  Pakistan   \n",
       "4541          OE  Employment Indicators              165  Pakistan   \n",
       "4542          OE  Employment Indicators              165  Pakistan   \n",
       "4543          OE  Employment Indicators              165  Pakistan   \n",
       "\n",
       "      Indicator Code                                          Indicator  \\\n",
       "4539           21117  Labour force participation rate by age, 65+, r...   \n",
       "4540           21125  Share of employment by status of employment, t...   \n",
       "4541           21133  Share of employment by status of employment, e...   \n",
       "4542           21135  Share of employment by status of employment, s...   \n",
       "4543           21144  Employment in agriculture, forestry and fishin...   \n",
       "\n",
       "      Sex Code     Sex  Year Code  Year  Source Code  \\\n",
       "4539        33  Female       2018  2018         3023   \n",
       "4540        33  Female       2018  2018         3023   \n",
       "4541        33  Female       2018  2018         3023   \n",
       "4542        33  Female       2018  2018         3023   \n",
       "4543        33  Female       2019  2019         3043   \n",
       "\n",
       "                            Source          Unit     Value Flag  \\\n",
       "4539           Labour force survey  1000 persons    10.050    X   \n",
       "4540           Labour force survey  1000 persons   100.000    X   \n",
       "4541           Labour force survey  1000 persons    20.500    X   \n",
       "4542           Labour force survey  1000 persons    79.500    X   \n",
       "4543  ILO - ILO Modelled Estimates  1000 persons  9269.959    X   \n",
       "\n",
       "                    Flag Description  \\\n",
       "4539  International reliable sources   \n",
       "4540  International reliable sources   \n",
       "4541  International reliable sources   \n",
       "4542  International reliable sources   \n",
       "4543  International reliable sources   \n",
       "\n",
       "                                                   Note  \n",
       "4539  Repository: ILO-STATISTICS - Micro data proces...  \n",
       "4540  Repository: ILO-STATISTICS - Micro data proces...  \n",
       "4541  Repository: ILO-STATISTICS - Micro data proces...  \n",
       "4542  Repository: ILO-STATISTICS - Micro data proces...  \n",
       "4543                                                NaN  "
      ]
     },
     "execution_count": 346,
     "metadata": {},
     "output_type": "execute_result"
    }
   ],
   "source": [
    "df.tail() #To check last elements"
   ]
  },
  {
   "cell_type": "code",
   "execution_count": 347,
   "metadata": {},
   "outputs": [
    {
     "data": {
      "text/plain": [
       "(4544, 17)"
      ]
     },
     "execution_count": 347,
     "metadata": {},
     "output_type": "execute_result"
    }
   ],
   "source": [
    "df.shape #To check the values present in specific attribute"
   ]
  },
  {
   "cell_type": "code",
   "execution_count": 348,
   "metadata": {},
   "outputs": [
    {
     "data": {
      "text/plain": [
       "Domain Code            1\n",
       "Domain                 1\n",
       "Area Code (FAO)        2\n",
       "Area                   2\n",
       "Indicator Code        47\n",
       "Indicator             47\n",
       "Sex Code              10\n",
       "Sex                    3\n",
       "Year Code             48\n",
       "Year                  48\n",
       "Source Code            2\n",
       "Source                 2\n",
       "Unit                   4\n",
       "Value               3699\n",
       "Flag                   1\n",
       "Flag Description       1\n",
       "Note                  35\n",
       "dtype: int64"
      ]
     },
     "execution_count": 348,
     "metadata": {},
     "output_type": "execute_result"
    }
   ],
   "source": [
    "df.nunique() #this function help us to analyze columns either they have continuous \n",
    "              #value or categorical.Less value (i.e. 3-5) shows categorical values"
   ]
  },
  {
   "cell_type": "code",
   "execution_count": 349,
   "metadata": {},
   "outputs": [
    {
     "data": {
      "text/plain": [
       "Index(['Domain Code', 'Domain', 'Area Code (FAO)', 'Area', 'Indicator Code',\n",
       "       'Indicator', 'Sex Code', 'Sex', 'Year Code', 'Year', 'Source Code',\n",
       "       'Source', 'Unit', 'Value', 'Flag', 'Flag Description', 'Note'],\n",
       "      dtype='object')"
      ]
     },
     "execution_count": 349,
     "metadata": {},
     "output_type": "execute_result"
    }
   ],
   "source": [
    "#Above coluns gives us estimate about plotting. It means we can plot value against \n",
    "#indicator code as both have continuous values.\n",
    "df.columns\n",
    "\n",
    "#This command helps to access attribute's names, which will be further used to access single column"
   ]
  },
  {
   "cell_type": "code",
   "execution_count": 350,
   "metadata": {},
   "outputs": [
    {
     "data": {
      "text/plain": [
       "array([nan, 'Repository: Eurostat special tabulation',\n",
       "       'Break in series Break in series: Methodology revised Repository: Eurostat special tabulation',\n",
       "       'Working time arrangement coverage: Full-time and part time workers Repository: Eurostat special tabulation',\n",
       "       'Break in series: Methodology revised, Repository: Eurostat special tabulation',\n",
       "       'Break in series Working time arrangement coverage: Full-time and part time workers | Break in series: Methodology revised Repository: Eurostat special tabulation',\n",
       "       'Break in series: Methodology revised Remarks: Data will be revised once more in May or June (for more information, refer to https://ec.europa.eu/eurostat/documents/10186/6246844/LFS-2020-Note-on-German-data.pdf), Repository: Eurostat special tabulation',\n",
       "       'Break in series Working time arrangement coverage: Full-time and part time workers | Break in series: Methodology revised | Remarks: Data will be revised once more in May or June (for more information, refer to https://ec.europa.eu/eurostat/documents/10186/6246844/LFS-2020-Note-on-German-data.pdf) Repository: Eurostat special tabulation',\n",
       "       'Break in series Break in series: Methodology revised | Remarks: Data will be revised once more in May or June (for more information, refer to https://ec.europa.eu/eurostat/documents/10186/6246844/LFS-2020-Note-on-German-data.pdf) Repository: Eurostat special tabulation',\n",
       "       'Job coverage: Main job currently held',\n",
       "       'Job coverage: Main and second job currently held Repository: Eurostat special tabulation',\n",
       "       'Break in series Job coverage: Main and second job currently held | Break in series: Methodology revised Repository: Eurostat special tabulation',\n",
       "       'Break in series Job coverage: Main and second job currently held | Break in series: Methodology revised | Remarks: Data will be revised once more in May or June (for more information, refer to https://ec.europa.eu/eurostat/documents/10186/6246844/LFS-2020-Note-on-German-data.pdf) Repository: Eurostat special tabulation',\n",
       "       'Adjusted', 'Unreliable Repository: Eurostat special tabulation',\n",
       "       'Data reference period: January | Population coverage: Excluding armed forces and/or conscripts | Age coverage - minimum age: 10 years old',\n",
       "       'Data reference period: Noncalendar year | Population coverage: Excluding armed forces and/or conscripts | Age coverage - minimum age: 10 years old',\n",
       "       'Repository: ILO-STATISTICS - Micro data processing',\n",
       "       'Break in series Break in series: Methodology revised Repository: ILO-STATISTICS - Micro data processing',\n",
       "       'Population coverage: Excluding both institutional population and armed forces and/or conscripts | Age coverage - minimum age: 10 years old | Age coverage - maximum age: 70 years old',\n",
       "       'Repository: ILO-STATISTICS - Micro data processing | Data reference period: Noncalendar year',\n",
       "       'Data reference period: January Population coverage: Excluding armed forces and/or conscripts Age coverage - minimum age: 10 years old',\n",
       "       'Data reference period: Noncalendar year Population coverage: Excluding armed forces and/or conscripts Age coverage - minimum age: 10 years old',\n",
       "       'Data reference period: July | Population coverage: Excluding armed forces and/or conscripts | Age coverage - minimum age: 10 years old',\n",
       "       'Break in series: Methodology revised, Repository: ILO-STATISTICS - Micro data processing',\n",
       "       'Population coverage: Excluding both institutional population and armed forces and/or conscripts Age coverage - minimum age: 10 years old Age coverage - maximum age: 70 years old',\n",
       "       'Working time arrangement coverage: Full-time and part time workers Population coverage: Excluding both institutional population and armed forces and/or conscripts | Age coverage - minimum age: 10 years old | Age coverage - maximum age: 70 years old',\n",
       "       'Criteria used to define rural/urban areas: Definition based on administrative area | Break in series: Other or unspecified type of break Population coverage: Excluding both institutional population and armed forces and/or conscripts | Age coverage - minimum age: 10 years old | Age coverage - maximum age: 70 years old',\n",
       "       'Nonstandard age group: Including ages 65-70 Criteria used to define rural/urban areas: Definition based on administrative area | Break in series: Other or unspecified type of break Population coverage: Excluding both institutional population and armed forces and/or conscripts | Age coverage - minimum age: 10 years old | Age coverage - maximum age: 70 years old',\n",
       "       'Repository: ILO-STATISTICS - Micro data processing Data reference period: Noncalendar year',\n",
       "       'Job coverage: Main job currently held Repository: ILO-STATISTICS - Micro data processing',\n",
       "       'Break in series Job coverage: Main job currently held | Break in series: Methodology revised Repository: ILO-STATISTICS - Micro data processing',\n",
       "       'Population coverage: Excluding both institutional population and armed forces and/or conscripts',\n",
       "       'Job coverage: Main job currently held Repository: ILO-STATISTICS - Micro data processing | Data reference period: Noncalendar year',\n",
       "       'Unreliable Repository: ILO-STATISTICS - Micro data processing',\n",
       "       'Unreliable Repository: ILO-STATISTICS - Micro data processing | Data reference period: Noncalendar year'],\n",
       "      dtype=object)"
      ]
     },
     "execution_count": 350,
     "metadata": {},
     "output_type": "execute_result"
    }
   ],
   "source": [
    "df['Note'].unique() #To check uniques values of specific columns"
   ]
  },
  {
   "cell_type": "code",
   "execution_count": 351,
   "metadata": {},
   "outputs": [
    {
     "data": {
      "text/plain": [
       "array([nan, 'Repository: Eurostat special tabulation',\n",
       "       'Break in series Break in series: Methodology revised Repository: Eurostat special tabulation',\n",
       "       ..., 20.5, 79.5, 9269.959], dtype=object)"
      ]
     },
     "execution_count": 351,
     "metadata": {},
     "output_type": "execute_result"
    }
   ],
   "source": [
    "df['Note'].append(df['Unit']).append(df['Value']).unique() #To check unique values of multiple columns\n"
   ]
  },
  {
   "cell_type": "markdown",
   "metadata": {},
   "source": [
    "## 2- Cleaning & Filtering the Data"
   ]
  },
  {
   "cell_type": "code",
   "execution_count": 352,
   "metadata": {},
   "outputs": [
    {
     "data": {
      "text/html": [
       "<div>\n",
       "<style scoped>\n",
       "    .dataframe tbody tr th:only-of-type {\n",
       "        vertical-align: middle;\n",
       "    }\n",
       "\n",
       "    .dataframe tbody tr th {\n",
       "        vertical-align: top;\n",
       "    }\n",
       "\n",
       "    .dataframe thead th {\n",
       "        text-align: right;\n",
       "    }\n",
       "</style>\n",
       "<table border=\"1\" class=\"dataframe\">\n",
       "  <thead>\n",
       "    <tr style=\"text-align: right;\">\n",
       "      <th></th>\n",
       "      <th>Domain Code</th>\n",
       "      <th>Domain</th>\n",
       "      <th>Area Code (FAO)</th>\n",
       "      <th>Area</th>\n",
       "      <th>Indicator Code</th>\n",
       "      <th>Indicator</th>\n",
       "      <th>Sex Code</th>\n",
       "      <th>Sex</th>\n",
       "      <th>Year Code</th>\n",
       "      <th>Year</th>\n",
       "      <th>Source Code</th>\n",
       "      <th>Source</th>\n",
       "      <th>Unit</th>\n",
       "      <th>Value</th>\n",
       "      <th>Flag</th>\n",
       "      <th>Flag Description</th>\n",
       "      <th>Note</th>\n",
       "    </tr>\n",
       "  </thead>\n",
       "  <tbody>\n",
       "    <tr>\n",
       "      <th>0</th>\n",
       "      <td>False</td>\n",
       "      <td>False</td>\n",
       "      <td>False</td>\n",
       "      <td>False</td>\n",
       "      <td>False</td>\n",
       "      <td>False</td>\n",
       "      <td>False</td>\n",
       "      <td>False</td>\n",
       "      <td>False</td>\n",
       "      <td>False</td>\n",
       "      <td>False</td>\n",
       "      <td>False</td>\n",
       "      <td>False</td>\n",
       "      <td>False</td>\n",
       "      <td>False</td>\n",
       "      <td>False</td>\n",
       "      <td>True</td>\n",
       "    </tr>\n",
       "    <tr>\n",
       "      <th>1</th>\n",
       "      <td>False</td>\n",
       "      <td>False</td>\n",
       "      <td>False</td>\n",
       "      <td>False</td>\n",
       "      <td>False</td>\n",
       "      <td>False</td>\n",
       "      <td>False</td>\n",
       "      <td>False</td>\n",
       "      <td>False</td>\n",
       "      <td>False</td>\n",
       "      <td>False</td>\n",
       "      <td>False</td>\n",
       "      <td>False</td>\n",
       "      <td>False</td>\n",
       "      <td>False</td>\n",
       "      <td>False</td>\n",
       "      <td>True</td>\n",
       "    </tr>\n",
       "    <tr>\n",
       "      <th>2</th>\n",
       "      <td>False</td>\n",
       "      <td>False</td>\n",
       "      <td>False</td>\n",
       "      <td>False</td>\n",
       "      <td>False</td>\n",
       "      <td>False</td>\n",
       "      <td>False</td>\n",
       "      <td>False</td>\n",
       "      <td>False</td>\n",
       "      <td>False</td>\n",
       "      <td>False</td>\n",
       "      <td>False</td>\n",
       "      <td>False</td>\n",
       "      <td>False</td>\n",
       "      <td>False</td>\n",
       "      <td>False</td>\n",
       "      <td>True</td>\n",
       "    </tr>\n",
       "    <tr>\n",
       "      <th>3</th>\n",
       "      <td>False</td>\n",
       "      <td>False</td>\n",
       "      <td>False</td>\n",
       "      <td>False</td>\n",
       "      <td>False</td>\n",
       "      <td>False</td>\n",
       "      <td>False</td>\n",
       "      <td>False</td>\n",
       "      <td>False</td>\n",
       "      <td>False</td>\n",
       "      <td>False</td>\n",
       "      <td>False</td>\n",
       "      <td>False</td>\n",
       "      <td>False</td>\n",
       "      <td>False</td>\n",
       "      <td>False</td>\n",
       "      <td>True</td>\n",
       "    </tr>\n",
       "    <tr>\n",
       "      <th>4</th>\n",
       "      <td>False</td>\n",
       "      <td>False</td>\n",
       "      <td>False</td>\n",
       "      <td>False</td>\n",
       "      <td>False</td>\n",
       "      <td>False</td>\n",
       "      <td>False</td>\n",
       "      <td>False</td>\n",
       "      <td>False</td>\n",
       "      <td>False</td>\n",
       "      <td>False</td>\n",
       "      <td>False</td>\n",
       "      <td>False</td>\n",
       "      <td>False</td>\n",
       "      <td>False</td>\n",
       "      <td>False</td>\n",
       "      <td>True</td>\n",
       "    </tr>\n",
       "    <tr>\n",
       "      <th>...</th>\n",
       "      <td>...</td>\n",
       "      <td>...</td>\n",
       "      <td>...</td>\n",
       "      <td>...</td>\n",
       "      <td>...</td>\n",
       "      <td>...</td>\n",
       "      <td>...</td>\n",
       "      <td>...</td>\n",
       "      <td>...</td>\n",
       "      <td>...</td>\n",
       "      <td>...</td>\n",
       "      <td>...</td>\n",
       "      <td>...</td>\n",
       "      <td>...</td>\n",
       "      <td>...</td>\n",
       "      <td>...</td>\n",
       "      <td>...</td>\n",
       "    </tr>\n",
       "    <tr>\n",
       "      <th>4539</th>\n",
       "      <td>False</td>\n",
       "      <td>False</td>\n",
       "      <td>False</td>\n",
       "      <td>False</td>\n",
       "      <td>False</td>\n",
       "      <td>False</td>\n",
       "      <td>False</td>\n",
       "      <td>False</td>\n",
       "      <td>False</td>\n",
       "      <td>False</td>\n",
       "      <td>False</td>\n",
       "      <td>False</td>\n",
       "      <td>False</td>\n",
       "      <td>False</td>\n",
       "      <td>False</td>\n",
       "      <td>False</td>\n",
       "      <td>False</td>\n",
       "    </tr>\n",
       "    <tr>\n",
       "      <th>4540</th>\n",
       "      <td>False</td>\n",
       "      <td>False</td>\n",
       "      <td>False</td>\n",
       "      <td>False</td>\n",
       "      <td>False</td>\n",
       "      <td>False</td>\n",
       "      <td>False</td>\n",
       "      <td>False</td>\n",
       "      <td>False</td>\n",
       "      <td>False</td>\n",
       "      <td>False</td>\n",
       "      <td>False</td>\n",
       "      <td>False</td>\n",
       "      <td>False</td>\n",
       "      <td>False</td>\n",
       "      <td>False</td>\n",
       "      <td>False</td>\n",
       "    </tr>\n",
       "    <tr>\n",
       "      <th>4541</th>\n",
       "      <td>False</td>\n",
       "      <td>False</td>\n",
       "      <td>False</td>\n",
       "      <td>False</td>\n",
       "      <td>False</td>\n",
       "      <td>False</td>\n",
       "      <td>False</td>\n",
       "      <td>False</td>\n",
       "      <td>False</td>\n",
       "      <td>False</td>\n",
       "      <td>False</td>\n",
       "      <td>False</td>\n",
       "      <td>False</td>\n",
       "      <td>False</td>\n",
       "      <td>False</td>\n",
       "      <td>False</td>\n",
       "      <td>False</td>\n",
       "    </tr>\n",
       "    <tr>\n",
       "      <th>4542</th>\n",
       "      <td>False</td>\n",
       "      <td>False</td>\n",
       "      <td>False</td>\n",
       "      <td>False</td>\n",
       "      <td>False</td>\n",
       "      <td>False</td>\n",
       "      <td>False</td>\n",
       "      <td>False</td>\n",
       "      <td>False</td>\n",
       "      <td>False</td>\n",
       "      <td>False</td>\n",
       "      <td>False</td>\n",
       "      <td>False</td>\n",
       "      <td>False</td>\n",
       "      <td>False</td>\n",
       "      <td>False</td>\n",
       "      <td>False</td>\n",
       "    </tr>\n",
       "    <tr>\n",
       "      <th>4543</th>\n",
       "      <td>False</td>\n",
       "      <td>False</td>\n",
       "      <td>False</td>\n",
       "      <td>False</td>\n",
       "      <td>False</td>\n",
       "      <td>False</td>\n",
       "      <td>False</td>\n",
       "      <td>False</td>\n",
       "      <td>False</td>\n",
       "      <td>False</td>\n",
       "      <td>False</td>\n",
       "      <td>False</td>\n",
       "      <td>False</td>\n",
       "      <td>False</td>\n",
       "      <td>False</td>\n",
       "      <td>False</td>\n",
       "      <td>True</td>\n",
       "    </tr>\n",
       "  </tbody>\n",
       "</table>\n",
       "<p>4544 rows × 17 columns</p>\n",
       "</div>"
      ],
      "text/plain": [
       "      Domain Code  Domain  Area Code (FAO)   Area  Indicator Code  Indicator  \\\n",
       "0           False   False            False  False           False      False   \n",
       "1           False   False            False  False           False      False   \n",
       "2           False   False            False  False           False      False   \n",
       "3           False   False            False  False           False      False   \n",
       "4           False   False            False  False           False      False   \n",
       "...           ...     ...              ...    ...             ...        ...   \n",
       "4539        False   False            False  False           False      False   \n",
       "4540        False   False            False  False           False      False   \n",
       "4541        False   False            False  False           False      False   \n",
       "4542        False   False            False  False           False      False   \n",
       "4543        False   False            False  False           False      False   \n",
       "\n",
       "      Sex Code    Sex  Year Code   Year  Source Code  Source   Unit  Value  \\\n",
       "0        False  False      False  False        False   False  False  False   \n",
       "1        False  False      False  False        False   False  False  False   \n",
       "2        False  False      False  False        False   False  False  False   \n",
       "3        False  False      False  False        False   False  False  False   \n",
       "4        False  False      False  False        False   False  False  False   \n",
       "...        ...    ...        ...    ...          ...     ...    ...    ...   \n",
       "4539     False  False      False  False        False   False  False  False   \n",
       "4540     False  False      False  False        False   False  False  False   \n",
       "4541     False  False      False  False        False   False  False  False   \n",
       "4542     False  False      False  False        False   False  False  False   \n",
       "4543     False  False      False  False        False   False  False  False   \n",
       "\n",
       "       Flag  Flag Description   Note  \n",
       "0     False             False   True  \n",
       "1     False             False   True  \n",
       "2     False             False   True  \n",
       "3     False             False   True  \n",
       "4     False             False   True  \n",
       "...     ...               ...    ...  \n",
       "4539  False             False  False  \n",
       "4540  False             False  False  \n",
       "4541  False             False  False  \n",
       "4542  False             False  False  \n",
       "4543  False             False   True  \n",
       "\n",
       "[4544 rows x 17 columns]"
      ]
     },
     "execution_count": 352,
     "metadata": {},
     "output_type": "execute_result"
    }
   ],
   "source": [
    "#Find missing values inside\n",
    "df.isnull() #True means values are null and false means values are not null"
   ]
  },
  {
   "cell_type": "code",
   "execution_count": 353,
   "metadata": {},
   "outputs": [
    {
     "data": {
      "text/plain": [
       "Domain Code           0\n",
       "Domain                0\n",
       "Area Code (FAO)       0\n",
       "Area                  0\n",
       "Indicator Code        0\n",
       "Indicator             0\n",
       "Sex Code              0\n",
       "Sex                   0\n",
       "Year Code             0\n",
       "Year                  0\n",
       "Source Code           0\n",
       "Source                0\n",
       "Unit                  0\n",
       "Value                 0\n",
       "Flag                  0\n",
       "Flag Description      0\n",
       "Note                333\n",
       "dtype: int64"
      ]
     },
     "execution_count": 353,
     "metadata": {},
     "output_type": "execute_result"
    }
   ],
   "source": [
    "#If we take sum, then it would no. of null values in given colums\n",
    "df.isnull().sum()"
   ]
  },
  {
   "cell_type": "markdown",
   "metadata": {},
   "source": [
    "## Above column shows that only 'Note' has null values. Better approach is to drop that column which has null values in majority. It can create problems. Loss should be bearable"
   ]
  },
  {
   "cell_type": "code",
   "execution_count": 354,
   "metadata": {},
   "outputs": [],
   "source": [
    "#Remove that column\n",
    "df_clean=df.drop(['Note'],axis=1)"
   ]
  },
  {
   "cell_type": "code",
   "execution_count": 355,
   "metadata": {},
   "outputs": [
    {
     "data": {
      "text/plain": [
       "Domain Code         0\n",
       "Domain              0\n",
       "Area Code (FAO)     0\n",
       "Area                0\n",
       "Indicator Code      0\n",
       "Indicator           0\n",
       "Sex Code            0\n",
       "Sex                 0\n",
       "Year Code           0\n",
       "Year                0\n",
       "Source Code         0\n",
       "Source              0\n",
       "Unit                0\n",
       "Value               0\n",
       "Flag                0\n",
       "Flag Description    0\n",
       "dtype: int64"
      ]
     },
     "execution_count": 355,
     "metadata": {},
     "output_type": "execute_result"
    }
   ],
   "source": [
    "#Now check again the null values\n",
    "df_clean.isnull().sum()"
   ]
  },
  {
   "cell_type": "code",
   "execution_count": 356,
   "metadata": {},
   "outputs": [
    {
     "data": {
      "text/plain": [
       "(4544, 16)"
      ]
     },
     "execution_count": 356,
     "metadata": {},
     "output_type": "execute_result"
    }
   ],
   "source": [
    "#Sometimes you can drop rows which have null values, but u have to check that rows \n",
    "# shouldn't be half of the remaining rows. Dataset shouldn't be drastically reduced in ro\n",
    "#To do that, usethe following function, it automatically delete all rows which have null values\n",
    "df_clean.dropna() #It is showing overall data. To summarize it, use the below mentioned command\n",
    "df_clean.dropna().shape"
   ]
  },
  {
   "cell_type": "code",
   "execution_count": 357,
   "metadata": {},
   "outputs": [
    {
     "data": {
      "text/plain": [
       "Domain Code         0\n",
       "Domain              0\n",
       "Area Code (FAO)     0\n",
       "Area                0\n",
       "Indicator Code      0\n",
       "Indicator           0\n",
       "Sex Code            0\n",
       "Sex                 0\n",
       "Year Code           0\n",
       "Year                0\n",
       "Source Code         0\n",
       "Source              0\n",
       "Unit                0\n",
       "Value               0\n",
       "Flag                0\n",
       "Flag Description    0\n",
       "dtype: int64"
      ]
     },
     "execution_count": 357,
     "metadata": {},
     "output_type": "execute_result"
    }
   ],
   "source": [
    "df_clean.shape #To check dimension\n",
    "df_clean.isnull().sum() #Cross verify that missing values are removed."
   ]
  },
  {
   "cell_type": "code",
   "execution_count": 358,
   "metadata": {},
   "outputs": [
    {
     "data": {
      "text/plain": [
       "Germany     3070\n",
       "Pakistan    1474\n",
       "Name: Area, dtype: int64"
      ]
     },
     "execution_count": 358,
     "metadata": {},
     "output_type": "execute_result"
    }
   ],
   "source": [
    "df_clean['Area'].value_counts() #This function shows number of values present in that specific column. As there are two areas and their count is shown"
   ]
  },
  {
   "cell_type": "code",
   "execution_count": 359,
   "metadata": {},
   "outputs": [
    {
     "data": {
      "text/html": [
       "<div>\n",
       "<style scoped>\n",
       "    .dataframe tbody tr th:only-of-type {\n",
       "        vertical-align: middle;\n",
       "    }\n",
       "\n",
       "    .dataframe tbody tr th {\n",
       "        vertical-align: top;\n",
       "    }\n",
       "\n",
       "    .dataframe thead th {\n",
       "        text-align: right;\n",
       "    }\n",
       "</style>\n",
       "<table border=\"1\" class=\"dataframe\">\n",
       "  <thead>\n",
       "    <tr style=\"text-align: right;\">\n",
       "      <th></th>\n",
       "      <th>Area Code (FAO)</th>\n",
       "      <th>Indicator Code</th>\n",
       "      <th>Sex Code</th>\n",
       "      <th>Year Code</th>\n",
       "      <th>Year</th>\n",
       "      <th>Source Code</th>\n",
       "      <th>Value</th>\n",
       "    </tr>\n",
       "  </thead>\n",
       "  <tbody>\n",
       "    <tr>\n",
       "      <th>count</th>\n",
       "      <td>4544.000000</td>\n",
       "      <td>4544.000000</td>\n",
       "      <td>4544.000000</td>\n",
       "      <td>4544.000000</td>\n",
       "      <td>4544.000000</td>\n",
       "      <td>4544.000000</td>\n",
       "      <td>4544.000000</td>\n",
       "    </tr>\n",
       "    <tr>\n",
       "      <th>mean</th>\n",
       "      <td>106.897007</td>\n",
       "      <td>21113.225132</td>\n",
       "      <td>21.908231</td>\n",
       "      <td>2006.341329</td>\n",
       "      <td>2006.341329</td>\n",
       "      <td>3024.531690</td>\n",
       "      <td>2171.798793</td>\n",
       "    </tr>\n",
       "    <tr>\n",
       "      <th>std</th>\n",
       "      <td>40.264828</td>\n",
       "      <td>26.451783</td>\n",
       "      <td>8.318616</td>\n",
       "      <td>9.074005</td>\n",
       "      <td>9.074005</td>\n",
       "      <td>5.319206</td>\n",
       "      <td>5554.464460</td>\n",
       "    </tr>\n",
       "    <tr>\n",
       "      <th>min</th>\n",
       "      <td>79.000000</td>\n",
       "      <td>21066.000000</td>\n",
       "      <td>10.000000</td>\n",
       "      <td>1973.000000</td>\n",
       "      <td>1973.000000</td>\n",
       "      <td>3023.000000</td>\n",
       "      <td>0.000000</td>\n",
       "    </tr>\n",
       "    <tr>\n",
       "      <th>25%</th>\n",
       "      <td>79.000000</td>\n",
       "      <td>21094.000000</td>\n",
       "      <td>13.000000</td>\n",
       "      <td>2000.000000</td>\n",
       "      <td>2000.000000</td>\n",
       "      <td>3023.000000</td>\n",
       "      <td>36.201971</td>\n",
       "    </tr>\n",
       "    <tr>\n",
       "      <th>50%</th>\n",
       "      <td>79.000000</td>\n",
       "      <td>21109.000000</td>\n",
       "      <td>23.000000</td>\n",
       "      <td>2008.000000</td>\n",
       "      <td>2008.000000</td>\n",
       "      <td>3023.000000</td>\n",
       "      <td>75.265000</td>\n",
       "    </tr>\n",
       "    <tr>\n",
       "      <th>75%</th>\n",
       "      <td>165.000000</td>\n",
       "      <td>21135.000000</td>\n",
       "      <td>31.000000</td>\n",
       "      <td>2014.000000</td>\n",
       "      <td>2014.000000</td>\n",
       "      <td>3023.000000</td>\n",
       "      <td>793.753750</td>\n",
       "    </tr>\n",
       "    <tr>\n",
       "      <th>max</th>\n",
       "      <td>165.000000</td>\n",
       "      <td>21158.000000</td>\n",
       "      <td>33.000000</td>\n",
       "      <td>2020.000000</td>\n",
       "      <td>2020.000000</td>\n",
       "      <td>3043.000000</td>\n",
       "      <td>46802.988281</td>\n",
       "    </tr>\n",
       "  </tbody>\n",
       "</table>\n",
       "</div>"
      ],
      "text/plain": [
       "       Area Code (FAO)  Indicator Code     Sex Code    Year Code         Year  \\\n",
       "count      4544.000000     4544.000000  4544.000000  4544.000000  4544.000000   \n",
       "mean        106.897007    21113.225132    21.908231  2006.341329  2006.341329   \n",
       "std          40.264828       26.451783     8.318616     9.074005     9.074005   \n",
       "min          79.000000    21066.000000    10.000000  1973.000000  1973.000000   \n",
       "25%          79.000000    21094.000000    13.000000  2000.000000  2000.000000   \n",
       "50%          79.000000    21109.000000    23.000000  2008.000000  2008.000000   \n",
       "75%         165.000000    21135.000000    31.000000  2014.000000  2014.000000   \n",
       "max         165.000000    21158.000000    33.000000  2020.000000  2020.000000   \n",
       "\n",
       "       Source Code         Value  \n",
       "count  4544.000000   4544.000000  \n",
       "mean   3024.531690   2171.798793  \n",
       "std       5.319206   5554.464460  \n",
       "min    3023.000000      0.000000  \n",
       "25%    3023.000000     36.201971  \n",
       "50%    3023.000000     75.265000  \n",
       "75%    3023.000000    793.753750  \n",
       "max    3043.000000  46802.988281  "
      ]
     },
     "execution_count": 359,
     "metadata": {},
     "output_type": "execute_result"
    }
   ],
   "source": [
    "df.describe()"
   ]
  },
  {
   "cell_type": "code",
   "execution_count": 360,
   "metadata": {},
   "outputs": [
    {
     "data": {
      "text/html": [
       "<div>\n",
       "<style scoped>\n",
       "    .dataframe tbody tr th:only-of-type {\n",
       "        vertical-align: middle;\n",
       "    }\n",
       "\n",
       "    .dataframe tbody tr th {\n",
       "        vertical-align: top;\n",
       "    }\n",
       "\n",
       "    .dataframe thead th {\n",
       "        text-align: right;\n",
       "    }\n",
       "</style>\n",
       "<table border=\"1\" class=\"dataframe\">\n",
       "  <thead>\n",
       "    <tr style=\"text-align: right;\">\n",
       "      <th></th>\n",
       "      <th>Area Code (FAO)</th>\n",
       "      <th>Indicator Code</th>\n",
       "      <th>Sex Code</th>\n",
       "      <th>Year Code</th>\n",
       "      <th>Year</th>\n",
       "      <th>Source Code</th>\n",
       "      <th>Value</th>\n",
       "    </tr>\n",
       "  </thead>\n",
       "  <tbody>\n",
       "    <tr>\n",
       "      <th>count</th>\n",
       "      <td>4544.000000</td>\n",
       "      <td>4544.000000</td>\n",
       "      <td>4544.000000</td>\n",
       "      <td>4544.000000</td>\n",
       "      <td>4544.000000</td>\n",
       "      <td>4544.000000</td>\n",
       "      <td>4544.000000</td>\n",
       "    </tr>\n",
       "    <tr>\n",
       "      <th>mean</th>\n",
       "      <td>106.897007</td>\n",
       "      <td>21113.225132</td>\n",
       "      <td>21.908231</td>\n",
       "      <td>2006.341329</td>\n",
       "      <td>2006.341329</td>\n",
       "      <td>3024.531690</td>\n",
       "      <td>2171.798793</td>\n",
       "    </tr>\n",
       "    <tr>\n",
       "      <th>std</th>\n",
       "      <td>40.264828</td>\n",
       "      <td>26.451783</td>\n",
       "      <td>8.318616</td>\n",
       "      <td>9.074005</td>\n",
       "      <td>9.074005</td>\n",
       "      <td>5.319206</td>\n",
       "      <td>5554.464460</td>\n",
       "    </tr>\n",
       "    <tr>\n",
       "      <th>min</th>\n",
       "      <td>79.000000</td>\n",
       "      <td>21066.000000</td>\n",
       "      <td>10.000000</td>\n",
       "      <td>1973.000000</td>\n",
       "      <td>1973.000000</td>\n",
       "      <td>3023.000000</td>\n",
       "      <td>0.000000</td>\n",
       "    </tr>\n",
       "    <tr>\n",
       "      <th>25%</th>\n",
       "      <td>79.000000</td>\n",
       "      <td>21094.000000</td>\n",
       "      <td>13.000000</td>\n",
       "      <td>2000.000000</td>\n",
       "      <td>2000.000000</td>\n",
       "      <td>3023.000000</td>\n",
       "      <td>36.201971</td>\n",
       "    </tr>\n",
       "    <tr>\n",
       "      <th>50%</th>\n",
       "      <td>79.000000</td>\n",
       "      <td>21109.000000</td>\n",
       "      <td>23.000000</td>\n",
       "      <td>2008.000000</td>\n",
       "      <td>2008.000000</td>\n",
       "      <td>3023.000000</td>\n",
       "      <td>75.265000</td>\n",
       "    </tr>\n",
       "    <tr>\n",
       "      <th>75%</th>\n",
       "      <td>165.000000</td>\n",
       "      <td>21135.000000</td>\n",
       "      <td>31.000000</td>\n",
       "      <td>2014.000000</td>\n",
       "      <td>2014.000000</td>\n",
       "      <td>3023.000000</td>\n",
       "      <td>793.753750</td>\n",
       "    </tr>\n",
       "    <tr>\n",
       "      <th>max</th>\n",
       "      <td>165.000000</td>\n",
       "      <td>21158.000000</td>\n",
       "      <td>33.000000</td>\n",
       "      <td>2020.000000</td>\n",
       "      <td>2020.000000</td>\n",
       "      <td>3043.000000</td>\n",
       "      <td>46802.988281</td>\n",
       "    </tr>\n",
       "  </tbody>\n",
       "</table>\n",
       "</div>"
      ],
      "text/plain": [
       "       Area Code (FAO)  Indicator Code     Sex Code    Year Code         Year  \\\n",
       "count      4544.000000     4544.000000  4544.000000  4544.000000  4544.000000   \n",
       "mean        106.897007    21113.225132    21.908231  2006.341329  2006.341329   \n",
       "std          40.264828       26.451783     8.318616     9.074005     9.074005   \n",
       "min          79.000000    21066.000000    10.000000  1973.000000  1973.000000   \n",
       "25%          79.000000    21094.000000    13.000000  2000.000000  2000.000000   \n",
       "50%          79.000000    21109.000000    23.000000  2008.000000  2008.000000   \n",
       "75%         165.000000    21135.000000    31.000000  2014.000000  2014.000000   \n",
       "max         165.000000    21158.000000    33.000000  2020.000000  2020.000000   \n",
       "\n",
       "       Source Code         Value  \n",
       "count  4544.000000   4544.000000  \n",
       "mean   3024.531690   2171.798793  \n",
       "std       5.319206   5554.464460  \n",
       "min    3023.000000      0.000000  \n",
       "25%    3023.000000     36.201971  \n",
       "50%    3023.000000     75.265000  \n",
       "75%    3023.000000    793.753750  \n",
       "max    3043.000000  46802.988281  "
      ]
     },
     "execution_count": 360,
     "metadata": {},
     "output_type": "execute_result"
    }
   ],
   "source": [
    "df_clean.describe() #Now you can see the difference. Mean and standard deviation would change after cleaning the data but not valid in my case as \n",
    "#I dropped column of categorical values resulted in no/minimal effect"
   ]
  },
  {
   "cell_type": "code",
   "execution_count": 361,
   "metadata": {},
   "outputs": [
    {
     "data": {
      "text/plain": [
       "Index(['Domain Code', 'Domain', 'Area Code (FAO)', 'Area', 'Indicator Code',\n",
       "       'Indicator', 'Sex Code', 'Sex', 'Year Code', 'Year', 'Source Code',\n",
       "       'Source', 'Unit', 'Value', 'Flag', 'Flag Description'],\n",
       "      dtype='object')"
      ]
     },
     "execution_count": 361,
     "metadata": {},
     "output_type": "execute_result"
    }
   ],
   "source": [
    "#These are all steps of curing the data\n",
    "df_clean.columns\n"
   ]
  },
  {
   "cell_type": "markdown",
   "metadata": {},
   "source": [
    "## Finding the Outliers"
   ]
  },
  {
   "cell_type": "code",
   "execution_count": 362,
   "metadata": {},
   "outputs": [
    {
     "data": {
      "text/plain": [
       "<AxesSubplot:xlabel='Sex', ylabel='Year'>"
      ]
     },
     "execution_count": 362,
     "metadata": {},
     "output_type": "execute_result"
    },
    {
     "data": {
      "image/png": "[encoded data removed]",
      "text/plain": [
       "<Figure size 432x288 with 1 Axes>"
      ]
     },
     "metadata": {
      "needs_background": "light"
     },
     "output_type": "display_data"
    }
   ],
   "source": [
    "sns.boxplot(x='Sex',y='Year',data=df_clean) #One column should be numerical to find the range of of data. Data above box shows outliers\n",
    "#This shows that sex has some issues/outliers. We will individually plot sex attribute"
   ]
  },
  {
   "cell_type": "code",
   "execution_count": 363,
   "metadata": {},
   "outputs": [
    {
     "data": {
      "text/plain": [
       "count      4544\n",
       "unique        3\n",
       "top       Total\n",
       "freq       1624\n",
       "Name: Sex, dtype: object"
      ]
     },
     "execution_count": 363,
     "metadata": {},
     "output_type": "execute_result"
    }
   ],
   "source": [
    "df['Sex'].describe()"
   ]
  },
  {
   "cell_type": "code",
   "execution_count": 364,
   "metadata": {},
   "outputs": [
    {
     "data": {
      "text/plain": [
       "<AxesSubplot:ylabel='Year'>"
      ]
     },
     "execution_count": 364,
     "metadata": {},
     "output_type": "execute_result"
    },
    {
     "data": {
      "image/png": "[encoded data removed]",
      "text/plain": [
       "<Figure size 432x288 with 1 Axes>"
      ]
     },
     "metadata": {
      "needs_background": "light"
     },
     "output_type": "display_data"
    }
   ],
   "source": [
    "sns.boxplot(y='Year',data=df_clean) #We can seethat the year below 1980 has some issues. As above and bottom lines shows minmum and maximum values.\n",
    "#Mid line shows median and box shows inter quartile range within region in box."
   ]
  },
  {
   "cell_type": "code",
   "execution_count": 365,
   "metadata": {},
   "outputs": [
    {
     "data": {
      "text/plain": [
       "<AxesSubplot:xlabel='Year', ylabel='Density'>"
      ]
     },
     "execution_count": 365,
     "metadata": {},
     "output_type": "execute_result"
    },
    {
     "data": {
      "image/png": "[encoded data removed]",
      "text/plain": [
       "<Figure size 432x288 with 1 Axes>"
      ]
     },
     "metadata": {
      "needs_background": "light"
     },
     "output_type": "display_data"
    }
   ],
   "source": [
    "sns.distplot(df_clean['Year']) #this is the distance plot. Values are going away from bell curve.\n",
    "#This is normality check/distanceplt/histrogram. If curve is tilted on any side, then there would be \n",
    "#dispersion and outlier removal would help. We normalize the values to make perfect curve"
   ]
  },
  {
   "cell_type": "code",
   "execution_count": 366,
   "metadata": {},
   "outputs": [
    {
     "data": {
      "text/plain": [
       "2006.3413292253522"
      ]
     },
     "execution_count": 366,
     "metadata": {},
     "output_type": "execute_result"
    }
   ],
   "source": [
    "#Outlier Removal \n",
    "df_clean['Year'].mean()  #This show mean of respect attribute"
   ]
  },
  {
   "cell_type": "code",
   "execution_count": 367,
   "metadata": {},
   "outputs": [
    {
     "data": {
      "text/plain": [
       "2006.3413292253522"
      ]
     },
     "execution_count": 367,
     "metadata": {},
     "output_type": "execute_result"
    }
   ],
   "source": [
    "##df_clean['Year']=df_clean['Year'] < 1980  #To remove outliers less than 1980\n",
    "df_clean['Year'].mean()"
   ]
  },
  {
   "cell_type": "code",
   "execution_count": 368,
   "metadata": {},
   "outputs": [
    {
     "data": {
      "text/plain": [
       "<AxesSubplot:ylabel='Year'>"
      ]
     },
     "execution_count": 368,
     "metadata": {},
     "output_type": "execute_result"
    },
    {
     "data": {
      "image/png": "[encoded data removed]",
      "text/plain": [
       "<Figure size 432x288 with 1 Axes>"
      ]
     },
     "metadata": {
      "needs_background": "light"
     },
     "output_type": "display_data"
    }
   ],
   "source": [
    "sns.boxplot(y='Year',data=df_clean)"
   ]
  },
  {
   "cell_type": "code",
   "execution_count": 369,
   "metadata": {},
   "outputs": [
    {
     "data": {
      "text/html": [
       "<div>\n",
       "<style scoped>\n",
       "    .dataframe tbody tr th:only-of-type {\n",
       "        vertical-align: middle;\n",
       "    }\n",
       "\n",
       "    .dataframe tbody tr th {\n",
       "        vertical-align: top;\n",
       "    }\n",
       "\n",
       "    .dataframe thead th {\n",
       "        text-align: right;\n",
       "    }\n",
       "</style>\n",
       "<table border=\"1\" class=\"dataframe\">\n",
       "  <thead>\n",
       "    <tr style=\"text-align: right;\">\n",
       "      <th></th>\n",
       "      <th>Domain Code</th>\n",
       "      <th>Domain</th>\n",
       "      <th>Area Code (FAO)</th>\n",
       "      <th>Area</th>\n",
       "      <th>Indicator Code</th>\n",
       "      <th>Indicator</th>\n",
       "      <th>Sex Code</th>\n",
       "      <th>Sex</th>\n",
       "      <th>Year Code</th>\n",
       "      <th>Year</th>\n",
       "      <th>Source Code</th>\n",
       "      <th>Source</th>\n",
       "      <th>Unit</th>\n",
       "      <th>Value</th>\n",
       "      <th>Flag</th>\n",
       "      <th>Flag Description</th>\n",
       "    </tr>\n",
       "  </thead>\n",
       "  <tbody>\n",
       "    <tr>\n",
       "      <th>1077</th>\n",
       "      <td>OE</td>\n",
       "      <td>Employment Indicators</td>\n",
       "      <td>79</td>\n",
       "      <td>Germany</td>\n",
       "      <td>21155</td>\n",
       "      <td>Share of employment in agriculture, forestry a...</td>\n",
       "      <td>21</td>\n",
       "      <td>Male</td>\n",
       "      <td>1983</td>\n",
       "      <td>1983</td>\n",
       "      <td>3023</td>\n",
       "      <td>Labour force survey</td>\n",
       "      <td>%</td>\n",
       "      <td>4.700000</td>\n",
       "      <td>X</td>\n",
       "      <td>International reliable sources</td>\n",
       "    </tr>\n",
       "    <tr>\n",
       "      <th>1078</th>\n",
       "      <td>OE</td>\n",
       "      <td>Employment Indicators</td>\n",
       "      <td>79</td>\n",
       "      <td>Germany</td>\n",
       "      <td>21152</td>\n",
       "      <td>Share of employees in agriculture, forestry an...</td>\n",
       "      <td>21</td>\n",
       "      <td>Male</td>\n",
       "      <td>1983</td>\n",
       "      <td>1983</td>\n",
       "      <td>3023</td>\n",
       "      <td>Labour force survey</td>\n",
       "      <td>%</td>\n",
       "      <td>1.362960</td>\n",
       "      <td>X</td>\n",
       "      <td>International reliable sources</td>\n",
       "    </tr>\n",
       "    <tr>\n",
       "      <th>1079</th>\n",
       "      <td>OE</td>\n",
       "      <td>Employment Indicators</td>\n",
       "      <td>79</td>\n",
       "      <td>Germany</td>\n",
       "      <td>21155</td>\n",
       "      <td>Share of employment in agriculture, forestry a...</td>\n",
       "      <td>21</td>\n",
       "      <td>Male</td>\n",
       "      <td>1984</td>\n",
       "      <td>1984</td>\n",
       "      <td>3023</td>\n",
       "      <td>Labour force survey</td>\n",
       "      <td>%</td>\n",
       "      <td>4.400000</td>\n",
       "      <td>X</td>\n",
       "      <td>International reliable sources</td>\n",
       "    </tr>\n",
       "    <tr>\n",
       "      <th>1080</th>\n",
       "      <td>OE</td>\n",
       "      <td>Employment Indicators</td>\n",
       "      <td>79</td>\n",
       "      <td>Germany</td>\n",
       "      <td>21152</td>\n",
       "      <td>Share of employees in agriculture, forestry an...</td>\n",
       "      <td>21</td>\n",
       "      <td>Male</td>\n",
       "      <td>1984</td>\n",
       "      <td>1984</td>\n",
       "      <td>3023</td>\n",
       "      <td>Labour force survey</td>\n",
       "      <td>%</td>\n",
       "      <td>1.293424</td>\n",
       "      <td>X</td>\n",
       "      <td>International reliable sources</td>\n",
       "    </tr>\n",
       "    <tr>\n",
       "      <th>1081</th>\n",
       "      <td>OE</td>\n",
       "      <td>Employment Indicators</td>\n",
       "      <td>79</td>\n",
       "      <td>Germany</td>\n",
       "      <td>21155</td>\n",
       "      <td>Share of employment in agriculture, forestry a...</td>\n",
       "      <td>21</td>\n",
       "      <td>Male</td>\n",
       "      <td>1985</td>\n",
       "      <td>1985</td>\n",
       "      <td>3023</td>\n",
       "      <td>Labour force survey</td>\n",
       "      <td>%</td>\n",
       "      <td>4.500000</td>\n",
       "      <td>X</td>\n",
       "      <td>International reliable sources</td>\n",
       "    </tr>\n",
       "    <tr>\n",
       "      <th>...</th>\n",
       "      <td>...</td>\n",
       "      <td>...</td>\n",
       "      <td>...</td>\n",
       "      <td>...</td>\n",
       "      <td>...</td>\n",
       "      <td>...</td>\n",
       "      <td>...</td>\n",
       "      <td>...</td>\n",
       "      <td>...</td>\n",
       "      <td>...</td>\n",
       "      <td>...</td>\n",
       "      <td>...</td>\n",
       "      <td>...</td>\n",
       "      <td>...</td>\n",
       "      <td>...</td>\n",
       "      <td>...</td>\n",
       "    </tr>\n",
       "    <tr>\n",
       "      <th>4539</th>\n",
       "      <td>OE</td>\n",
       "      <td>Employment Indicators</td>\n",
       "      <td>165</td>\n",
       "      <td>Pakistan</td>\n",
       "      <td>21117</td>\n",
       "      <td>Labour force participation rate by age, 65+, r...</td>\n",
       "      <td>33</td>\n",
       "      <td>Female</td>\n",
       "      <td>2018</td>\n",
       "      <td>2018</td>\n",
       "      <td>3023</td>\n",
       "      <td>Labour force survey</td>\n",
       "      <td>1000 persons</td>\n",
       "      <td>10.050000</td>\n",
       "      <td>X</td>\n",
       "      <td>International reliable sources</td>\n",
       "    </tr>\n",
       "    <tr>\n",
       "      <th>4540</th>\n",
       "      <td>OE</td>\n",
       "      <td>Employment Indicators</td>\n",
       "      <td>165</td>\n",
       "      <td>Pakistan</td>\n",
       "      <td>21125</td>\n",
       "      <td>Share of employment by status of employment, t...</td>\n",
       "      <td>33</td>\n",
       "      <td>Female</td>\n",
       "      <td>2018</td>\n",
       "      <td>2018</td>\n",
       "      <td>3023</td>\n",
       "      <td>Labour force survey</td>\n",
       "      <td>1000 persons</td>\n",
       "      <td>100.000000</td>\n",
       "      <td>X</td>\n",
       "      <td>International reliable sources</td>\n",
       "    </tr>\n",
       "    <tr>\n",
       "      <th>4541</th>\n",
       "      <td>OE</td>\n",
       "      <td>Employment Indicators</td>\n",
       "      <td>165</td>\n",
       "      <td>Pakistan</td>\n",
       "      <td>21133</td>\n",
       "      <td>Share of employment by status of employment, e...</td>\n",
       "      <td>33</td>\n",
       "      <td>Female</td>\n",
       "      <td>2018</td>\n",
       "      <td>2018</td>\n",
       "      <td>3023</td>\n",
       "      <td>Labour force survey</td>\n",
       "      <td>1000 persons</td>\n",
       "      <td>20.500000</td>\n",
       "      <td>X</td>\n",
       "      <td>International reliable sources</td>\n",
       "    </tr>\n",
       "    <tr>\n",
       "      <th>4542</th>\n",
       "      <td>OE</td>\n",
       "      <td>Employment Indicators</td>\n",
       "      <td>165</td>\n",
       "      <td>Pakistan</td>\n",
       "      <td>21135</td>\n",
       "      <td>Share of employment by status of employment, s...</td>\n",
       "      <td>33</td>\n",
       "      <td>Female</td>\n",
       "      <td>2018</td>\n",
       "      <td>2018</td>\n",
       "      <td>3023</td>\n",
       "      <td>Labour force survey</td>\n",
       "      <td>1000 persons</td>\n",
       "      <td>79.500000</td>\n",
       "      <td>X</td>\n",
       "      <td>International reliable sources</td>\n",
       "    </tr>\n",
       "    <tr>\n",
       "      <th>4543</th>\n",
       "      <td>OE</td>\n",
       "      <td>Employment Indicators</td>\n",
       "      <td>165</td>\n",
       "      <td>Pakistan</td>\n",
       "      <td>21144</td>\n",
       "      <td>Employment in agriculture, forestry and fishin...</td>\n",
       "      <td>33</td>\n",
       "      <td>Female</td>\n",
       "      <td>2019</td>\n",
       "      <td>2019</td>\n",
       "      <td>3043</td>\n",
       "      <td>ILO - ILO Modelled Estimates</td>\n",
       "      <td>1000 persons</td>\n",
       "      <td>9269.959000</td>\n",
       "      <td>X</td>\n",
       "      <td>International reliable sources</td>\n",
       "    </tr>\n",
       "  </tbody>\n",
       "</table>\n",
       "<p>2920 rows × 16 columns</p>\n",
       "</div>"
      ],
      "text/plain": [
       "     Domain Code                 Domain  Area Code (FAO)      Area  \\\n",
       "1077          OE  Employment Indicators               79   Germany   \n",
       "1078          OE  Employment Indicators               79   Germany   \n",
       "1079          OE  Employment Indicators               79   Germany   \n",
       "1080          OE  Employment Indicators               79   Germany   \n",
       "1081          OE  Employment Indicators               79   Germany   \n",
       "...          ...                    ...              ...       ...   \n",
       "4539          OE  Employment Indicators              165  Pakistan   \n",
       "4540          OE  Employment Indicators              165  Pakistan   \n",
       "4541          OE  Employment Indicators              165  Pakistan   \n",
       "4542          OE  Employment Indicators              165  Pakistan   \n",
       "4543          OE  Employment Indicators              165  Pakistan   \n",
       "\n",
       "      Indicator Code                                          Indicator  \\\n",
       "1077           21155  Share of employment in agriculture, forestry a...   \n",
       "1078           21152  Share of employees in agriculture, forestry an...   \n",
       "1079           21155  Share of employment in agriculture, forestry a...   \n",
       "1080           21152  Share of employees in agriculture, forestry an...   \n",
       "1081           21155  Share of employment in agriculture, forestry a...   \n",
       "...              ...                                                ...   \n",
       "4539           21117  Labour force participation rate by age, 65+, r...   \n",
       "4540           21125  Share of employment by status of employment, t...   \n",
       "4541           21133  Share of employment by status of employment, e...   \n",
       "4542           21135  Share of employment by status of employment, s...   \n",
       "4543           21144  Employment in agriculture, forestry and fishin...   \n",
       "\n",
       "      Sex Code     Sex  Year Code  Year  Source Code  \\\n",
       "1077        21    Male       1983  1983         3023   \n",
       "1078        21    Male       1983  1983         3023   \n",
       "1079        21    Male       1984  1984         3023   \n",
       "1080        21    Male       1984  1984         3023   \n",
       "1081        21    Male       1985  1985         3023   \n",
       "...        ...     ...        ...   ...          ...   \n",
       "4539        33  Female       2018  2018         3023   \n",
       "4540        33  Female       2018  2018         3023   \n",
       "4541        33  Female       2018  2018         3023   \n",
       "4542        33  Female       2018  2018         3023   \n",
       "4543        33  Female       2019  2019         3043   \n",
       "\n",
       "                            Source          Unit        Value Flag  \\\n",
       "1077           Labour force survey             %     4.700000    X   \n",
       "1078           Labour force survey             %     1.362960    X   \n",
       "1079           Labour force survey             %     4.400000    X   \n",
       "1080           Labour force survey             %     1.293424    X   \n",
       "1081           Labour force survey             %     4.500000    X   \n",
       "...                            ...           ...          ...  ...   \n",
       "4539           Labour force survey  1000 persons    10.050000    X   \n",
       "4540           Labour force survey  1000 persons   100.000000    X   \n",
       "4541           Labour force survey  1000 persons    20.500000    X   \n",
       "4542           Labour force survey  1000 persons    79.500000    X   \n",
       "4543  ILO - ILO Modelled Estimates  1000 persons  9269.959000    X   \n",
       "\n",
       "                    Flag Description  \n",
       "1077  International reliable sources  \n",
       "1078  International reliable sources  \n",
       "1079  International reliable sources  \n",
       "1080  International reliable sources  \n",
       "1081  International reliable sources  \n",
       "...                              ...  \n",
       "4539  International reliable sources  \n",
       "4540  International reliable sources  \n",
       "4541  International reliable sources  \n",
       "4542  International reliable sources  \n",
       "4543  International reliable sources  \n",
       "\n",
       "[2920 rows x 16 columns]"
      ]
     },
     "execution_count": 369,
     "metadata": {},
     "output_type": "execute_result"
    }
   ],
   "source": [
    "dfclean= df_clean[df_clean.Sex != 'Total']\n",
    "dfclean"
   ]
  },
  {
   "cell_type": "code",
   "execution_count": 370,
   "metadata": {},
   "outputs": [
    {
     "data": {
      "text/plain": [
       "(2920, 16)"
      ]
     },
     "execution_count": 370,
     "metadata": {},
     "output_type": "execute_result"
    }
   ],
   "source": [
    "dfclean.shape  #Now the rows with unidentified grnder has been removes. It mean 4544-2920=1624 rows has removed\n"
   ]
  },
  {
   "cell_type": "code",
   "execution_count": 371,
   "metadata": {},
   "outputs": [
    {
     "data": {
      "text/plain": [
       "<AxesSubplot:ylabel='Year'>"
      ]
     },
     "execution_count": 371,
     "metadata": {},
     "output_type": "execute_result"
    },
    {
     "data": {
      "image/png": "[encoded data removed]",
      "text/plain": [
       "<Figure size 432x288 with 1 Axes>"
      ]
     },
     "metadata": {
      "needs_background": "light"
     },
     "output_type": "display_data"
    }
   ],
   "source": [
    "sns.boxplot(y='Year',data=dfclean) #Outliers has been removed"
   ]
  },
  {
   "cell_type": "code",
   "execution_count": 372,
   "metadata": {},
   "outputs": [
    {
     "data": {
      "text/plain": [
       "<AxesSubplot:xlabel='Sex', ylabel='Year'>"
      ]
     },
     "execution_count": 372,
     "metadata": {},
     "output_type": "execute_result"
    },
    {
     "data": {
      "image/png": "[encoded data removed]",
      "text/plain": [
       "<Figure size 432x288 with 1 Axes>"
      ]
     },
     "metadata": {
      "needs_background": "light"
     },
     "output_type": "display_data"
    }
   ],
   "source": [
    "sns.boxplot(x='Sex',y='Year',data=dfclean) #Now you can see that data is in pure state"
   ]
  },
  {
   "cell_type": "code",
   "execution_count": 373,
   "metadata": {},
   "outputs": [
    {
     "data": {
      "text/plain": [
       "<AxesSubplot:xlabel='Year', ylabel='Density'>"
      ]
     },
     "execution_count": 373,
     "metadata": {},
     "output_type": "execute_result"
    },
    {
     "data": {
      "image/png": "[encoded data removed]",
      "text/plain": [
       "<Figure size 432x288 with 1 Axes>"
      ]
     },
     "metadata": {
      "needs_background": "light"
     },
     "output_type": "display_data"
    }
   ],
   "source": [
    "sns.distplot(dfclean['Year']) #The bell curve is normalized in some way"
   ]
  },
  {
   "cell_type": "code",
   "execution_count": 374,
   "metadata": {},
   "outputs": [
    {
     "data": {
      "text/plain": [
       "(2920, 16)"
      ]
     },
     "execution_count": 374,
     "metadata": {},
     "output_type": "execute_result"
    }
   ],
   "source": [
    "dfclean_update=df_clean[df_clean['Sex']!='Total'] # You can remove in this way\n",
    "dfclean_update.shape"
   ]
  },
  {
   "cell_type": "code",
   "execution_count": 375,
   "metadata": {},
   "outputs": [],
   "source": [
    "#dfclean['Year'].mean() In case of continuous variable, you would find mean"
   ]
  },
  {
   "cell_type": "code",
   "execution_count": 376,
   "metadata": {},
   "outputs": [
    {
     "data": {
      "text/plain": [
       "<AxesSubplot:>"
      ]
     },
     "execution_count": 376,
     "metadata": {},
     "output_type": "execute_result"
    },
    {
     "data": {
      "image/png": "[encoded data removed]",
      "text/plain": [
       "<Figure size 432x288 with 1 Axes>"
      ]
     },
     "metadata": {
      "needs_background": "light"
     },
     "output_type": "display_data"
    }
   ],
   "source": [
    "dfclean.boxplot() #Value above 20000 shows change, if there would be 2 3 values then it would be removed. But these will not considered as outliers. We would draw histogram"
   ]
  },
  {
   "cell_type": "code",
   "execution_count": 377,
   "metadata": {},
   "outputs": [
    {
     "data": {
      "text/plain": [
       "<AxesSubplot:xlabel='Value', ylabel='Density'>"
      ]
     },
     "execution_count": 377,
     "metadata": {},
     "output_type": "execute_result"
    },
    {
     "data": {
      "image/png": "[encoded data removed]",
      "text/plain": [
       "<Figure size 432x288 with 1 Axes>"
      ]
     },
     "metadata": {
      "needs_background": "light"
     },
     "output_type": "display_data"
    }
   ],
   "source": [
    "sns.distplot(dfclean['Value']) #This shows that data is screwed as it has a lot of dispersion, so we would use logarithm transformation. But if we would delete, then below values would come on top, so we can;t remove more data."
   ]
  },
  {
   "cell_type": "code",
   "execution_count": 378,
   "metadata": {},
   "outputs": [
    {
     "data": {
      "text/plain": [
       "array([[<AxesSubplot:title={'center':'Area Code (FAO)'}>,\n",
       "        <AxesSubplot:title={'center':'Indicator Code'}>,\n",
       "        <AxesSubplot:title={'center':'Sex Code'}>],\n",
       "       [<AxesSubplot:title={'center':'Year Code'}>,\n",
       "        <AxesSubplot:title={'center':'Year'}>,\n",
       "        <AxesSubplot:title={'center':'Source Code'}>],\n",
       "       [<AxesSubplot:title={'center':'Value'}>, <AxesSubplot:>,\n",
       "        <AxesSubplot:>]], dtype=object)"
      ]
     },
     "execution_count": 378,
     "metadata": {},
     "output_type": "execute_result"
    },
    {
     "data": {
      "image/png": "[encoded data removed]",
      "text/plain": [
       "<Figure size 432x288 with 9 Axes>"
      ]
     },
     "metadata": {
      "needs_background": "light"
     },
     "output_type": "display_data"
    }
   ],
   "source": [
    "dfclean.hist()"
   ]
  },
  {
   "cell_type": "code",
   "execution_count": 379,
   "metadata": {},
   "outputs": [
    {
     "data": {
      "text/plain": [
       "<AxesSubplot:>"
      ]
     },
     "execution_count": 379,
     "metadata": {},
     "output_type": "execute_result"
    },
    {
     "data": {
      "image/png": "[encoded data removed]",
      "text/plain": [
       "<Figure size 432x288 with 1 Axes>"
      ]
     },
     "metadata": {
      "needs_background": "light"
     },
     "output_type": "display_data"
    }
   ],
   "source": [
    "pd.value_counts(dfclean['Year']).plot.bar() #This shows the dataset distribution among years"
   ]
  },
  {
   "cell_type": "code",
   "execution_count": 380,
   "metadata": {},
   "outputs": [
    {
     "data": {
      "text/plain": [
       "<AxesSubplot:>"
      ]
     },
     "execution_count": 380,
     "metadata": {},
     "output_type": "execute_result"
    },
    {
     "data": {
      "image/png": "[encoded data removed]",
      "text/plain": [
       "<Figure size 432x288 with 1 Axes>"
      ]
     },
     "metadata": {
      "needs_background": "light"
     },
     "output_type": "display_data"
    }
   ],
   "source": [
    "pd.value_counts(dfclean['Sex']).plot.bar()"
   ]
  },
  {
   "cell_type": "code",
   "execution_count": 381,
   "metadata": {},
   "outputs": [
    {
     "data": {
      "text/html": [
       "<div>\n",
       "<style scoped>\n",
       "    .dataframe tbody tr th:only-of-type {\n",
       "        vertical-align: middle;\n",
       "    }\n",
       "\n",
       "    .dataframe tbody tr th {\n",
       "        vertical-align: top;\n",
       "    }\n",
       "\n",
       "    .dataframe thead th {\n",
       "        text-align: right;\n",
       "    }\n",
       "</style>\n",
       "<table border=\"1\" class=\"dataframe\">\n",
       "  <thead>\n",
       "    <tr style=\"text-align: right;\">\n",
       "      <th></th>\n",
       "      <th>Area Code (FAO)</th>\n",
       "      <th>Indicator Code</th>\n",
       "      <th>Sex Code</th>\n",
       "      <th>Year Code</th>\n",
       "      <th>Year</th>\n",
       "      <th>Source Code</th>\n",
       "      <th>Value</th>\n",
       "    </tr>\n",
       "    <tr>\n",
       "      <th>Sex</th>\n",
       "      <th></th>\n",
       "      <th></th>\n",
       "      <th></th>\n",
       "      <th></th>\n",
       "      <th></th>\n",
       "      <th></th>\n",
       "      <th></th>\n",
       "    </tr>\n",
       "  </thead>\n",
       "  <tbody>\n",
       "    <tr>\n",
       "      <th>Female</th>\n",
       "      <td>105.699931</td>\n",
       "      <td>21114.434511</td>\n",
       "      <td>32.354123</td>\n",
       "      <td>2006.740125</td>\n",
       "      <td>2006.740125</td>\n",
       "      <td>3024.607762</td>\n",
       "      <td>969.356874</td>\n",
       "    </tr>\n",
       "    <tr>\n",
       "      <th>Male</th>\n",
       "      <td>106.890318</td>\n",
       "      <td>21113.413676</td>\n",
       "      <td>22.359513</td>\n",
       "      <td>2006.570074</td>\n",
       "      <td>2006.570074</td>\n",
       "      <td>3024.570752</td>\n",
       "      <td>1966.954982</td>\n",
       "    </tr>\n",
       "  </tbody>\n",
       "</table>\n",
       "</div>"
      ],
      "text/plain": [
       "        Area Code (FAO)  Indicator Code   Sex Code    Year Code         Year  \\\n",
       "Sex                                                                            \n",
       "Female       105.699931    21114.434511  32.354123  2006.740125  2006.740125   \n",
       "Male         106.890318    21113.413676  22.359513  2006.570074  2006.570074   \n",
       "\n",
       "        Source Code        Value  \n",
       "Sex                               \n",
       "Female  3024.607762   969.356874  \n",
       "Male    3024.570752  1966.954982  "
      ]
     },
     "execution_count": 381,
     "metadata": {},
     "output_type": "execute_result"
    }
   ],
   "source": [
    "dfclean.groupby(['Sex']).mean() #This shows the salaries given to male is high as compared to female\n",
    "#Although both are almost in same number"
   ]
  },
  {
   "cell_type": "code",
   "execution_count": 382,
   "metadata": {},
   "outputs": [
    {
     "data": {
      "text/plain": [
       "Male      1477\n",
       "Female    1443\n",
       "Name: Sex, dtype: int64"
      ]
     },
     "execution_count": 382,
     "metadata": {},
     "output_type": "execute_result"
    }
   ],
   "source": [
    "dfclean['Sex'].value_counts()"
   ]
  },
  {
   "cell_type": "code",
   "execution_count": 383,
   "metadata": {},
   "outputs": [
    {
     "data": {
      "text/html": [
       "<div>\n",
       "<style scoped>\n",
       "    .dataframe tbody tr th:only-of-type {\n",
       "        vertical-align: middle;\n",
       "    }\n",
       "\n",
       "    .dataframe tbody tr th {\n",
       "        vertical-align: top;\n",
       "    }\n",
       "\n",
       "    .dataframe thead th {\n",
       "        text-align: right;\n",
       "    }\n",
       "</style>\n",
       "<table border=\"1\" class=\"dataframe\">\n",
       "  <thead>\n",
       "    <tr style=\"text-align: right;\">\n",
       "      <th></th>\n",
       "      <th>Area Code (FAO)</th>\n",
       "      <th>Indicator Code</th>\n",
       "      <th>Sex Code</th>\n",
       "      <th>Year Code</th>\n",
       "      <th>Year</th>\n",
       "      <th>Source Code</th>\n",
       "      <th>Value</th>\n",
       "    </tr>\n",
       "    <tr>\n",
       "      <th>Sex</th>\n",
       "      <th></th>\n",
       "      <th></th>\n",
       "      <th></th>\n",
       "      <th></th>\n",
       "      <th></th>\n",
       "      <th></th>\n",
       "      <th></th>\n",
       "    </tr>\n",
       "  </thead>\n",
       "  <tbody>\n",
       "    <tr>\n",
       "      <th>Female</th>\n",
       "      <td>105.699931</td>\n",
       "      <td>21114.434511</td>\n",
       "      <td>32.354123</td>\n",
       "      <td>2006.740125</td>\n",
       "      <td>2006.740125</td>\n",
       "      <td>3024.607762</td>\n",
       "      <td>969.356874</td>\n",
       "    </tr>\n",
       "    <tr>\n",
       "      <th>Male</th>\n",
       "      <td>106.890318</td>\n",
       "      <td>21113.413676</td>\n",
       "      <td>22.359513</td>\n",
       "      <td>2006.570074</td>\n",
       "      <td>2006.570074</td>\n",
       "      <td>3024.570752</td>\n",
       "      <td>1966.954982</td>\n",
       "    </tr>\n",
       "    <tr>\n",
       "      <th>Total</th>\n",
       "      <td>107.966749</td>\n",
       "      <td>21111.979064</td>\n",
       "      <td>12.216133</td>\n",
       "      <td>2005.778941</td>\n",
       "      <td>2005.778941</td>\n",
       "      <td>3024.428571</td>\n",
       "      <td>3426.526623</td>\n",
       "    </tr>\n",
       "  </tbody>\n",
       "</table>\n",
       "</div>"
      ],
      "text/plain": [
       "        Area Code (FAO)  Indicator Code   Sex Code    Year Code         Year  \\\n",
       "Sex                                                                            \n",
       "Female       105.699931    21114.434511  32.354123  2006.740125  2006.740125   \n",
       "Male         106.890318    21113.413676  22.359513  2006.570074  2006.570074   \n",
       "Total        107.966749    21111.979064  12.216133  2005.778941  2005.778941   \n",
       "\n",
       "        Source Code        Value  \n",
       "Sex                               \n",
       "Female  3024.607762   969.356874  \n",
       "Male    3024.570752  1966.954982  \n",
       "Total   3024.428571  3426.526623  "
      ]
     },
     "execution_count": 383,
     "metadata": {},
     "output_type": "execute_result"
    }
   ],
   "source": [
    "df.groupby(['Sex']).mean() #See the comparison between impure and pure data thats why data manipulation/Data wrangling is important"
   ]
  },
  {
   "cell_type": "markdown",
   "metadata": {},
   "source": [
    "## Correlation\\Relationship between Data"
   ]
  },
  {
   "cell_type": "code",
   "execution_count": 384,
   "metadata": {},
   "outputs": [],
   "source": [
    "cor_dfclean=dfclean.corr() \n",
    "#Correlation shows relationship between data. If one value is decreasing and other is increasing,\n",
    "# it means that negative correlation, otherwise positive. If coorelation is 0, then no change"
   ]
  },
  {
   "cell_type": "code",
   "execution_count": 385,
   "metadata": {},
   "outputs": [
    {
     "data": {
      "text/plain": [
       "<AxesSubplot:>"
      ]
     },
     "execution_count": 385,
     "metadata": {},
     "output_type": "execute_result"
    },
    {
     "data": {
      "image/png": "[encoded data removed]",
      "text/plain": [
       "<Figure size 432x288 with 2 Axes>"
      ]
     },
     "metadata": {
      "needs_background": "light"
     },
     "output_type": "display_data"
    }
   ],
   "source": [
    "sns.heatmap(cor_dfclean) #0 shows no correlation"
   ]
  },
  {
   "cell_type": "code",
   "execution_count": 386,
   "metadata": {},
   "outputs": [
    {
     "data": {
      "text/plain": [
       "<AxesSubplot:>"
      ]
     },
     "execution_count": 386,
     "metadata": {},
     "output_type": "execute_result"
    },
    {
     "data": {
      "image/png": "[encoded data removed]",
      "text/plain": [
       "<Figure size 432x288 with 2 Axes>"
      ]
     },
     "metadata": {
      "needs_background": "light"
     },
     "output_type": "display_data"
    }
   ],
   "source": [
    "sns.heatmap(cor_dfclean, annot=True) #With Values"
   ]
  },
  {
   "cell_type": "code",
   "execution_count": 387,
   "metadata": {},
   "outputs": [
    {
     "data": {
      "text/plain": [
       "<seaborn.axisgrid.FacetGrid at 0x244a0960580>"
      ]
     },
     "execution_count": 387,
     "metadata": {},
     "output_type": "execute_result"
    },
    {
     "data": {
      "image/png": "[encoded data removed]",
      "text/plain": [
       "<Figure size 360x360 with 1 Axes>"
      ]
     },
     "metadata": {
      "needs_background": "light"
     },
     "output_type": "display_data"
    }
   ],
   "source": [
    "sns.relplot(x='Year',y='Value',data=dfclean) #This plot is showing less correlation as shown in confusion matrix"
   ]
  },
  {
   "cell_type": "code",
   "execution_count": 388,
   "metadata": {},
   "outputs": [
    {
     "data": {
      "text/plain": [
       "<seaborn.axisgrid.FacetGrid at 0x244a1da5930>"
      ]
     },
     "execution_count": 388,
     "metadata": {},
     "output_type": "execute_result"
    },
    {
     "data": {
      "image/png": "[encoded data removed]",
      "text/plain": [
       "<Figure size 432.125x360 with 1 Axes>"
      ]
     },
     "metadata": {
      "needs_background": "light"
     },
     "output_type": "display_data"
    }
   ],
   "source": [
    "sns.relplot(x='Year',y='Value',hue='Sex',data=dfclean)"
   ]
  },
  {
   "cell_type": "code",
   "execution_count": 389,
   "metadata": {},
   "outputs": [
    {
     "data": {
      "text/plain": [
       "<seaborn.axisgrid.FacetGrid at 0x244a1f654b0>"
      ]
     },
     "execution_count": 389,
     "metadata": {},
     "output_type": "execute_result"
    },
    {
     "data": {
      "image/png": "[encoded data removed]",
      "text/plain": [
       "<Figure size 432.125x360 with 1 Axes>"
      ]
     },
     "metadata": {
      "needs_background": "light"
     },
     "output_type": "display_data"
    }
   ],
   "source": [
    "sns.catplot(x='Year',y='Value',hue='Sex',data=dfclean, kind='bar')"
   ]
  },
  {
   "cell_type": "code",
   "execution_count": 390,
   "metadata": {},
   "outputs": [
    {
     "data": {
      "text/plain": [
       "<AxesSubplot:xlabel='Sex', ylabel='Year'>"
      ]
     },
     "execution_count": 390,
     "metadata": {},
     "output_type": "execute_result"
    },
    {
     "data": {
      "image/png": "[encoded data removed]",
      "text/plain": [
       "<Figure size 432x288 with 1 Axes>"
      ]
     },
     "metadata": {
      "needs_background": "light"
     },
     "output_type": "display_data"
    }
   ],
   "source": [
    "\n",
    "sns.boxplot(x='Sex',y='Year',data=dfclean) #This shows the median of male and female. You can tell mean and median and you can see higher salaries as outliers and can remove those outliers."
   ]
  },
  {
   "cell_type": "code",
   "execution_count": 391,
   "metadata": {},
   "outputs": [
    {
     "data": {
      "text/plain": [
       "<AxesSubplot:xlabel='Sex', ylabel='Value'>"
      ]
     },
     "execution_count": 391,
     "metadata": {},
     "output_type": "execute_result"
    },
    {
     "data": {
      "image/png": "[encoded data removed]",
      "text/plain": [
       "<Figure size 432x288 with 1 Axes>"
      ]
     },
     "metadata": {
      "needs_background": "light"
     },
     "output_type": "display_data"
    }
   ],
   "source": [
    "sns.boxplot(x='Sex',y='Value',data=dfclean)"
   ]
  },
  {
   "cell_type": "code",
   "execution_count": 392,
   "metadata": {},
   "outputs": [
    {
     "data": {
      "text/plain": [
       "<AxesSubplot:>"
      ]
     },
     "execution_count": 392,
     "metadata": {},
     "output_type": "execute_result"
    },
    {
     "data": {
      "image/png": "[encoded data removed]",
      "text/plain": [
       "<Figure size 432x288 with 1 Axes>"
      ]
     },
     "metadata": {
      "needs_background": "light"
     },
     "output_type": "display_data"
    }
   ],
   "source": [
    "dfclean.boxplot()"
   ]
  },
  {
   "cell_type": "code",
   "execution_count": 393,
   "metadata": {},
   "outputs": [
    {
     "data": {
      "text/plain": [
       "(135, 16)"
      ]
     },
     "execution_count": 393,
     "metadata": {},
     "output_type": "execute_result"
    }
   ],
   "source": [
    "dfclean_r= df_clean[df_clean.Value > 20000] #We can't delete more values as outliers because data would reduce drastically\n",
    "dfclean_r.shape"
   ]
  },
  {
   "cell_type": "code",
   "execution_count": 394,
   "metadata": {},
   "outputs": [
    {
     "data": {
      "text/html": [
       "<div>\n",
       "<style scoped>\n",
       "    .dataframe tbody tr th:only-of-type {\n",
       "        vertical-align: middle;\n",
       "    }\n",
       "\n",
       "    .dataframe tbody tr th {\n",
       "        vertical-align: top;\n",
       "    }\n",
       "\n",
       "    .dataframe thead th {\n",
       "        text-align: right;\n",
       "    }\n",
       "</style>\n",
       "<table border=\"1\" class=\"dataframe\">\n",
       "  <thead>\n",
       "    <tr style=\"text-align: right;\">\n",
       "      <th></th>\n",
       "      <th>Domain Code</th>\n",
       "      <th>Domain</th>\n",
       "      <th>Area Code (FAO)</th>\n",
       "      <th>Area</th>\n",
       "      <th>Indicator Code</th>\n",
       "      <th>Indicator</th>\n",
       "      <th>Sex Code</th>\n",
       "      <th>Sex</th>\n",
       "      <th>Year Code</th>\n",
       "      <th>Year</th>\n",
       "      <th>Source Code</th>\n",
       "      <th>Source</th>\n",
       "      <th>Unit</th>\n",
       "      <th>Value</th>\n",
       "      <th>Flag</th>\n",
       "      <th>Flag Description</th>\n",
       "      <th>Value_Log</th>\n",
       "    </tr>\n",
       "  </thead>\n",
       "  <tbody>\n",
       "    <tr>\n",
       "      <th>1077</th>\n",
       "      <td>OE</td>\n",
       "      <td>Employment Indicators</td>\n",
       "      <td>79</td>\n",
       "      <td>Germany</td>\n",
       "      <td>21155</td>\n",
       "      <td>Share of employment in agriculture, forestry a...</td>\n",
       "      <td>21</td>\n",
       "      <td>Male</td>\n",
       "      <td>1983</td>\n",
       "      <td>1983</td>\n",
       "      <td>3023</td>\n",
       "      <td>Labour force survey</td>\n",
       "      <td>%</td>\n",
       "      <td>4.700000</td>\n",
       "      <td>X</td>\n",
       "      <td>International reliable sources</td>\n",
       "      <td>1.547563</td>\n",
       "    </tr>\n",
       "    <tr>\n",
       "      <th>1078</th>\n",
       "      <td>OE</td>\n",
       "      <td>Employment Indicators</td>\n",
       "      <td>79</td>\n",
       "      <td>Germany</td>\n",
       "      <td>21152</td>\n",
       "      <td>Share of employees in agriculture, forestry an...</td>\n",
       "      <td>21</td>\n",
       "      <td>Male</td>\n",
       "      <td>1983</td>\n",
       "      <td>1983</td>\n",
       "      <td>3023</td>\n",
       "      <td>Labour force survey</td>\n",
       "      <td>%</td>\n",
       "      <td>1.362960</td>\n",
       "      <td>X</td>\n",
       "      <td>International reliable sources</td>\n",
       "      <td>0.309659</td>\n",
       "    </tr>\n",
       "    <tr>\n",
       "      <th>1079</th>\n",
       "      <td>OE</td>\n",
       "      <td>Employment Indicators</td>\n",
       "      <td>79</td>\n",
       "      <td>Germany</td>\n",
       "      <td>21155</td>\n",
       "      <td>Share of employment in agriculture, forestry a...</td>\n",
       "      <td>21</td>\n",
       "      <td>Male</td>\n",
       "      <td>1984</td>\n",
       "      <td>1984</td>\n",
       "      <td>3023</td>\n",
       "      <td>Labour force survey</td>\n",
       "      <td>%</td>\n",
       "      <td>4.400000</td>\n",
       "      <td>X</td>\n",
       "      <td>International reliable sources</td>\n",
       "      <td>1.481605</td>\n",
       "    </tr>\n",
       "    <tr>\n",
       "      <th>1080</th>\n",
       "      <td>OE</td>\n",
       "      <td>Employment Indicators</td>\n",
       "      <td>79</td>\n",
       "      <td>Germany</td>\n",
       "      <td>21152</td>\n",
       "      <td>Share of employees in agriculture, forestry an...</td>\n",
       "      <td>21</td>\n",
       "      <td>Male</td>\n",
       "      <td>1984</td>\n",
       "      <td>1984</td>\n",
       "      <td>3023</td>\n",
       "      <td>Labour force survey</td>\n",
       "      <td>%</td>\n",
       "      <td>1.293424</td>\n",
       "      <td>X</td>\n",
       "      <td>International reliable sources</td>\n",
       "      <td>0.257293</td>\n",
       "    </tr>\n",
       "    <tr>\n",
       "      <th>1081</th>\n",
       "      <td>OE</td>\n",
       "      <td>Employment Indicators</td>\n",
       "      <td>79</td>\n",
       "      <td>Germany</td>\n",
       "      <td>21155</td>\n",
       "      <td>Share of employment in agriculture, forestry a...</td>\n",
       "      <td>21</td>\n",
       "      <td>Male</td>\n",
       "      <td>1985</td>\n",
       "      <td>1985</td>\n",
       "      <td>3023</td>\n",
       "      <td>Labour force survey</td>\n",
       "      <td>%</td>\n",
       "      <td>4.500000</td>\n",
       "      <td>X</td>\n",
       "      <td>International reliable sources</td>\n",
       "      <td>1.504077</td>\n",
       "    </tr>\n",
       "  </tbody>\n",
       "</table>\n",
       "</div>"
      ],
      "text/plain": [
       "     Domain Code                 Domain  Area Code (FAO)     Area  \\\n",
       "1077          OE  Employment Indicators               79  Germany   \n",
       "1078          OE  Employment Indicators               79  Germany   \n",
       "1079          OE  Employment Indicators               79  Germany   \n",
       "1080          OE  Employment Indicators               79  Germany   \n",
       "1081          OE  Employment Indicators               79  Germany   \n",
       "\n",
       "      Indicator Code                                          Indicator  \\\n",
       "1077           21155  Share of employment in agriculture, forestry a...   \n",
       "1078           21152  Share of employees in agriculture, forestry an...   \n",
       "1079           21155  Share of employment in agriculture, forestry a...   \n",
       "1080           21152  Share of employees in agriculture, forestry an...   \n",
       "1081           21155  Share of employment in agriculture, forestry a...   \n",
       "\n",
       "      Sex Code   Sex  Year Code  Year  Source Code               Source Unit  \\\n",
       "1077        21  Male       1983  1983         3023  Labour force survey    %   \n",
       "1078        21  Male       1983  1983         3023  Labour force survey    %   \n",
       "1079        21  Male       1984  1984         3023  Labour force survey    %   \n",
       "1080        21  Male       1984  1984         3023  Labour force survey    %   \n",
       "1081        21  Male       1985  1985         3023  Labour force survey    %   \n",
       "\n",
       "         Value Flag                Flag Description  Value_Log  \n",
       "1077  4.700000    X  International reliable sources   1.547563  \n",
       "1078  1.362960    X  International reliable sources   0.309659  \n",
       "1079  4.400000    X  International reliable sources   1.481605  \n",
       "1080  1.293424    X  International reliable sources   0.257293  \n",
       "1081  4.500000    X  International reliable sources   1.504077  "
      ]
     },
     "execution_count": 394,
     "metadata": {},
     "output_type": "execute_result"
    }
   ],
   "source": [
    "dfclean['Value_Log']=np.log(dfclean['Value'])\n",
    "dfclean.head()"
   ]
  },
  {
   "cell_type": "code",
   "execution_count": 395,
   "metadata": {},
   "outputs": [
    {
     "data": {
      "text/plain": [
       "<AxesSubplot:>"
      ]
     },
     "execution_count": 395,
     "metadata": {},
     "output_type": "execute_result"
    },
    {
     "data": {
      "image/png": "[encoded data removed]",
      "text/plain": [
       "<Figure size 432x288 with 1 Axes>"
      ]
     },
     "metadata": {
      "needs_background": "light"
     },
     "output_type": "display_data"
    }
   ],
   "source": [
    "dfclean.boxplot() # This shows the impact of log."
   ]
  },
  {
   "cell_type": "code",
   "execution_count": 396,
   "metadata": {},
   "outputs": [
    {
     "data": {
      "text/plain": [
       "<AxesSubplot:xlabel='Sex', ylabel='Value_Log'>"
      ]
     },
     "execution_count": 396,
     "metadata": {},
     "output_type": "execute_result"
    },
    {
     "data": {
      "image/png": "[encoded data removed]",
      "text/plain": [
       "<Figure size 432x288 with 1 Axes>"
      ]
     },
     "metadata": {
      "needs_background": "light"
     },
     "output_type": "display_data"
    }
   ],
   "source": [
    "sns.boxplot(x='Sex',y='Value_Log',data=dfclean)"
   ]
  },
  {
   "cell_type": "code",
   "execution_count": 397,
   "metadata": {},
   "outputs": [
    {
     "data": {
      "text/plain": [
       "<AxesSubplot:xlabel='Sex', ylabel='Value'>"
      ]
     },
     "execution_count": 397,
     "metadata": {},
     "output_type": "execute_result"
    },
    {
     "data": {
      "image/png": "[encoded data removed]",
      "text/plain": [
       "<Figure size 432x288 with 1 Axes>"
      ]
     },
     "metadata": {
      "needs_background": "light"
     },
     "output_type": "display_data"
    }
   ],
   "source": [
    "sns.boxplot(x='Sex',y='Value',data=dfclean)"
   ]
  },
  {
   "cell_type": "code",
   "execution_count": 398,
   "metadata": {},
   "outputs": [
    {
     "data": {
      "text/plain": [
       "False    2841\n",
       "True       79\n",
       "Name: Value_Log, dtype: int64"
      ]
     },
     "execution_count": 398,
     "metadata": {},
     "output_type": "execute_result"
    }
   ],
   "source": [
    "(dfclean['Value_Log']<0).value_counts() #It means 79 rows contain outliers, so we can remove them "
   ]
  },
  {
   "cell_type": "code",
   "execution_count": 399,
   "metadata": {},
   "outputs": [],
   "source": [
    "dfclean_L= dfclean[dfclean.Value_Log > 0] #Remove outliers greater than 0"
   ]
  },
  {
   "cell_type": "code",
   "execution_count": 400,
   "metadata": {},
   "outputs": [
    {
     "data": {
      "text/plain": [
       "<AxesSubplot:xlabel='Sex', ylabel='Value_Log'>"
      ]
     },
     "execution_count": 400,
     "metadata": {},
     "output_type": "execute_result"
    },
    {
     "data": {
      "image/png": "[encoded data removed]",
      "text/plain": [
       "<Figure size 432x288 with 1 Axes>"
      ]
     },
     "metadata": {
      "needs_background": "light"
     },
     "output_type": "display_data"
    }
   ],
   "source": [
    "sns.boxplot(x='Sex',y='Value_Log',data=dfclean_L) #There are no outliers left"
   ]
  },
  {
   "cell_type": "code",
   "execution_count": 401,
   "metadata": {},
   "outputs": [
    {
     "data": {
      "text/plain": [
       "<AxesSubplot:xlabel='Value_Log', ylabel='Density'>"
      ]
     },
     "execution_count": 401,
     "metadata": {},
     "output_type": "execute_result"
    },
    {
     "data": {
      "image/png": "[encoded data removed]",
      "text/plain": [
       "<Figure size 432x288 with 1 Axes>"
      ]
     },
     "metadata": {
      "needs_background": "light"
     },
     "output_type": "display_data"
    }
   ],
   "source": [
    "sns.distplot(dfclean_L['Value_Log']) #Bell curve after normalization"
   ]
  },
  {
   "cell_type": "code",
   "execution_count": 402,
   "metadata": {},
   "outputs": [
    {
     "data": {
      "text/plain": [
       "<AxesSubplot:>"
      ]
     },
     "execution_count": 402,
     "metadata": {},
     "output_type": "execute_result"
    },
    {
     "data": {
      "image/png": "[encoded data removed]",
      "text/plain": [
       "<Figure size 432x288 with 1 Axes>"
      ]
     },
     "metadata": {
      "needs_background": "light"
     },
     "output_type": "display_data"
    }
   ],
   "source": [
    "dfclean_LU=dfclean_L.drop(columns='Value') #Drop original values to check data\n",
    "dfclean_LU.boxplot()"
   ]
  },
  {
   "cell_type": "code",
   "execution_count": 403,
   "metadata": {},
   "outputs": [
    {
     "data": {
      "text/plain": [
       "<seaborn.axisgrid.FacetGrid at 0x244a086ded0>"
      ]
     },
     "execution_count": 403,
     "metadata": {},
     "output_type": "execute_result"
    },
    {
     "data": {
      "image/png": "[encoded data removed]",
      "text/plain": [
       "<Figure size 432.125x360 with 1 Axes>"
      ]
     },
     "metadata": {
      "needs_background": "light"
     },
     "output_type": "display_data"
    }
   ],
   "source": [
    "sns.relplot(x='Year',y='Value_Log',hue='Sex',data=dfclean)"
   ]
  },
  {
   "cell_type": "code",
   "execution_count": 404,
   "metadata": {},
   "outputs": [
    {
     "data": {
      "text/plain": [
       "<Figure size 1080x360 with 0 Axes>"
      ]
     },
     "execution_count": 404,
     "metadata": {},
     "output_type": "execute_result"
    },
    {
     "data": {
      "image/png": "[encoded data removed]",
      "text/plain": [
       "<Figure size 432.125x360 with 1 Axes>"
      ]
     },
     "metadata": {
      "needs_background": "light"
     },
     "output_type": "display_data"
    },
    {
     "data": {
      "text/plain": [
       "<Figure size 1080x360 with 0 Axes>"
      ]
     },
     "metadata": {},
     "output_type": "display_data"
    }
   ],
   "source": [
    "sns.catplot(x='Year',y='Value_Log',hue='Sex',data=dfclean, kind='bar')\n",
    "plt.figure(figsize=(15,5))"
   ]
  },
  {
   "cell_type": "code",
   "execution_count": 405,
   "metadata": {},
   "outputs": [
    {
     "data": {
      "text/plain": [
       "<AxesSubplot:xlabel='Year', ylabel='Value_Log'>"
      ]
     },
     "execution_count": 405,
     "metadata": {},
     "output_type": "execute_result"
    },
    {
     "data": {
      "image/png": "[encoded data removed]",
      "text/plain": [
       "<Figure size 432x288 with 1 Axes>"
      ]
     },
     "metadata": {
      "needs_background": "light"
     },
     "output_type": "display_data"
    }
   ],
   "source": [
    "sns.boxplot(x='Year',y='Value_Log',data=dfclean) \n"
   ]
  },
  {
   "cell_type": "code",
   "execution_count": 406,
   "metadata": {},
   "outputs": [
    {
     "data": {
      "text/plain": [
       "Text(0.5, 1.0, 'Relation between Food & employment')"
      ]
     },
     "execution_count": 406,
     "metadata": {},
     "output_type": "execute_result"
    },
    {
     "data": {
      "image/png": "[encoded data removed]",
      "text/plain": [
       "<Figure size 432x288 with 1 Axes>"
      ]
     },
     "metadata": {
      "needs_background": "light"
     },
     "output_type": "display_data"
    }
   ],
   "source": [
    "sns.lineplot(x='Year',y='Value',hue='Area',data=dfclean) #show the relationship between employment and population\n",
    "plt.title(\"Relation between Food & employment\")"
   ]
  }
 ],
 "metadata": {
  "interpreter": {
   "hash": "780a354d57c8e214d9717ce5db3cb79ec448e2663d29d7e7694b88eee37d2c96"
  },
  "kernelspec": {
   "display_name": "Python 3.10.1 64-bit",
   "language": "python",
   "name": "python3"
  },
  "language_info": {
   "codemirror_mode": {
    "name": "ipython",
    "version": 3
   },
   "file_extension": ".py",
   "mimetype": "text/x-python",
   "name": "python",
   "nbconvert_exporter": "python",
   "pygments_lexer": "ipython3",
   "version": "3.10.1"
  },
  "orig_nbformat": 4
 },
 "nbformat": 4,
 "nbformat_minor": 2
}
